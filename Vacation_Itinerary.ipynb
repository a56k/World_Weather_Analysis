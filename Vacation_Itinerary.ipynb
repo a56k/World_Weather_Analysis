{
 "cells": [
  {
   "cell_type": "markdown",
   "metadata": {},
   "source": [
    "## Deliverable 3. Create a Travel Itinerary Map."
   ]
  },
  {
   "cell_type": "code",
   "execution_count": 4,
   "metadata": {},
   "outputs": [],
   "source": [
    "# Dependencies and Setup\n",
    "import pandas as pd\n",
    "import requests\n",
    "import gmaps\n",
    "\n",
    "# Import API key\n",
    "from config import g_key\n",
    "\n",
    "# Configure gmaps\n",
    "gmaps.configure(api_key=g_key)"
   ]
  },
  {
   "cell_type": "code",
   "execution_count": 11,
   "metadata": {},
   "outputs": [
    {
     "output_type": "execute_result",
     "data": {
      "text/plain": [
       "   City_ID            City Country  Max Temp Current Description    Lat  \\\n",
       "0        0  Port Elizabeth      ZA      62.6          light rain -33.92   \n",
       "1        2      Georgetown      MY      84.2          few clouds   5.41   \n",
       "2        3   Mar Del Plata      AR      78.8       broken clouds -38.00   \n",
       "3        4   Clarence Town      AU      82.0     overcast clouds -32.58   \n",
       "4        5     New Norfolk      AU      61.0     overcast clouds -42.78   \n",
       "\n",
       "      Lng                       Hotel Name  \n",
       "0   25.57           39 On Nile Guest House  \n",
       "1  100.34                   Cititel Penang  \n",
       "2  -57.56         Gran Hotel Mar del Plata  \n",
       "3  151.78              River Downs Cottage  \n",
       "4  147.06  The Shingles Riverside Cottages  "
      ],
      "text/html": "<div>\n<style scoped>\n    .dataframe tbody tr th:only-of-type {\n        vertical-align: middle;\n    }\n\n    .dataframe tbody tr th {\n        vertical-align: top;\n    }\n\n    .dataframe thead th {\n        text-align: right;\n    }\n</style>\n<table border=\"1\" class=\"dataframe\">\n  <thead>\n    <tr style=\"text-align: right;\">\n      <th></th>\n      <th>City_ID</th>\n      <th>City</th>\n      <th>Country</th>\n      <th>Max Temp</th>\n      <th>Current Description</th>\n      <th>Lat</th>\n      <th>Lng</th>\n      <th>Hotel Name</th>\n    </tr>\n  </thead>\n  <tbody>\n    <tr>\n      <th>0</th>\n      <td>0</td>\n      <td>Port Elizabeth</td>\n      <td>ZA</td>\n      <td>62.6</td>\n      <td>light rain</td>\n      <td>-33.92</td>\n      <td>25.57</td>\n      <td>39 On Nile Guest House</td>\n    </tr>\n    <tr>\n      <th>1</th>\n      <td>2</td>\n      <td>Georgetown</td>\n      <td>MY</td>\n      <td>84.2</td>\n      <td>few clouds</td>\n      <td>5.41</td>\n      <td>100.34</td>\n      <td>Cititel Penang</td>\n    </tr>\n    <tr>\n      <th>2</th>\n      <td>3</td>\n      <td>Mar Del Plata</td>\n      <td>AR</td>\n      <td>78.8</td>\n      <td>broken clouds</td>\n      <td>-38.00</td>\n      <td>-57.56</td>\n      <td>Gran Hotel Mar del Plata</td>\n    </tr>\n    <tr>\n      <th>3</th>\n      <td>4</td>\n      <td>Clarence Town</td>\n      <td>AU</td>\n      <td>82.0</td>\n      <td>overcast clouds</td>\n      <td>-32.58</td>\n      <td>151.78</td>\n      <td>River Downs Cottage</td>\n    </tr>\n    <tr>\n      <th>4</th>\n      <td>5</td>\n      <td>New Norfolk</td>\n      <td>AU</td>\n      <td>61.0</td>\n      <td>overcast clouds</td>\n      <td>-42.78</td>\n      <td>147.06</td>\n      <td>The Shingles Riverside Cottages</td>\n    </tr>\n  </tbody>\n</table>\n</div>"
     },
     "metadata": {},
     "execution_count": 11
    }
   ],
   "source": [
    "# 1. Read the WeatherPy_vacation.csv into a DataFrame.\n",
    "vacation_df = pd.read_csv(\"Vacation_Search/WeatherPy_vacation_df.csv\")\n",
    "vacation_df.head()"
   ]
  },
  {
   "cell_type": "code",
   "execution_count": 12,
   "metadata": {},
   "outputs": [],
   "source": [
    "# 2. Using the template add the city name, the country code, the weather description and maximum temperature for the city.\n",
    "info_box_template = \"\"\"\n",
    "<dl>\n",
    "<dt>Hotel Name</dt><dd>{Hotel Name}</dd>\n",
    "<dt>City</dt><dd>{City}</dd>\n",
    "<dt>Country</dt><dd>{Country}</dd>\n",
    "<dt>Current Description</dt><dd>{Current Description} at {Max Temp}</dd>\n",
    "\"\"\"\n",
    "\n",
    "# 3a. Get the data from each row and add it to the formatting template and store the data in a list.\n",
    "hotel_info = [info_box_template.format(**row) for index, row in vacation_df.iterrows()]\n",
    "\n",
    "# 3b. Get the latitude and longitude from each row and store in a new DataFrame.\n",
    "locations = vacation_df[[\"Lat\", \"Lng\"]]"
   ]
  },
  {
   "cell_type": "code",
   "execution_count": 7,
   "metadata": {},
   "outputs": [
    {
     "output_type": "display_data",
     "data": {
      "text/plain": "Figure(layout=FigureLayout(height='420px'))",
      "application/vnd.jupyter.widget-view+json": {
       "version_major": 2,
       "version_minor": 0,
       "model_id": "a5213357f0234279856f3457038c3387"
      }
     },
     "metadata": {}
    }
   ],
   "source": [
    "# 4a. Add a marker layer for each city to the map.\n",
    "marker_layer = gmaps.marker_layer(locations, info_box_content=hotel_info)\n",
    "fig = gmaps.figure()\n",
    "fig.add_layer(marker_layer)\n",
    "# 4b. Display the figure\n",
    "\n",
    "fig"
   ]
  },
  {
   "cell_type": "code",
   "execution_count": 13,
   "metadata": {},
   "outputs": [],
   "source": [
    "# From the map above pick 4 cities and create a vacation itinerary route to travel between the four cities. \n",
    "# 5. Create DataFrames for each city by filtering the 'vacation_df' using the loc method. \n",
    "# Hint: The starting and ending city should be the same city.\n",
    "\n",
    "vacation_start = WeatherPy_vacation_df.loc[vacation_df[\"City\"] == \"Neuquen\"]\n",
    "vacation_end = WeatherPy_vacation_df.loc[vacation_df[\"City\"] == \"Neuquen\"]\n",
    "vacation_stop1 = WeatherPy_vacation_df.loc[vacation_df[\"City\"] == \"Puerto Madryn\"]\n",
    "vacation_stop2 = WeatherPy_vacation_df.loc[vacation_df[\"City\"] == \"Viedma\"] \n",
    "vacation_stop3 = WeatherPy_vacation_df.loc[vacation_df[\"City\"] == \"Mar Del Plata\"]"
   ]
  },
  {
   "cell_type": "code",
   "execution_count": 14,
   "metadata": {},
   "outputs": [
    {
     "output_type": "stream",
     "name": "stdout",
     "text": [
      "(-38.95, -68.06)\n(-38.95, -68.06)\n(-42.77, -65.04)\n(-40.81, -63.0)\n(-38.0, -57.56)\n"
     ]
    }
   ],
   "source": [
    "# 6. Get the latitude-longitude pairs as tuples from each city DataFrame using the to_numpy function and list indexing.\n",
    "start = vacation_start[\"Lat\"].to_numpy()[0], vacation_start[\"Lng\"].to_numpy()[0]\n",
    "end = vacation_end[\"Lat\"].to_numpy()[0], vacation_end[\"Lng\"].to_numpy()[0]\n",
    "stop1 = vacation_stop1[\"Lat\"].to_numpy()[0], vacation_stop1[\"Lng\"].to_numpy()[0]\n",
    "stop2 = vacation_stop2[\"Lat\"].to_numpy()[0], vacation_stop2[\"Lng\"].to_numpy()[0]\n",
    "stop3 = vacation_stop3[\"Lat\"].to_numpy()[0], vacation_stop3[\"Lng\"].to_numpy()[0]\n",
    "\n",
    "print(start)\n",
    "print(end)\n",
    "print(stop1)\n",
    "print(stop2)\n",
    "print(stop3)"
   ]
  },
  {
   "cell_type": "code",
   "execution_count": 22,
   "metadata": {
    "scrolled": true
   },
   "outputs": [
    {
     "output_type": "display_data",
     "data": {
      "text/plain": "Figure(layout=FigureLayout(height='420px'))",
      "application/vnd.jupyter.widget-view+json": {
       "version_major": 2,
       "version_minor": 0,
       "model_id": "5f49ca7f0ae24a4fab055f0ac7ce8e13"
      }
     },
     "metadata": {}
    }
   ],
   "source": [
    "# 7. Create a direction layer map using the start and end latitude-longitude pairs,\n",
    "# and stop1, stop2, and stop3 as the waypoints. The travel_mode should be \"DRIVING\", \"BICYCLING\", or \"WALKING\".\n",
    "\n",
    "fig = gmaps.figure()\n",
    "vacation_itinerary = gmaps.directions_layer(\n",
    "    start, end, waypoints=[stop1, stop2, stop3],\n",
    "    travel_mode=\"DRIVING\")\n",
    "\n",
    "fig.add_layer(vacation_itinerary)\n",
    "fig"
   ]
  },
  {
   "cell_type": "code",
   "execution_count": 17,
   "metadata": {},
   "outputs": [
    {
     "output_type": "execute_result",
     "data": {
      "text/plain": [
       "   City_ID           City Country  Max Temp Current Description    Lat    Lng  \\\n",
       "0      331        Neuquen      AR     84.20           clear sky -38.95 -68.06   \n",
       "1      331        Neuquen      AR     84.20           clear sky -38.95 -68.06   \n",
       "2      383  Puerto Madryn      AR     65.73           clear sky -42.77 -65.04   \n",
       "3      177         Viedma      AR     69.01           clear sky -40.81 -63.00   \n",
       "4        3  Mar Del Plata      AR     78.80       broken clouds -38.00 -57.56   \n",
       "\n",
       "                 Hotel Name  \n",
       "0         Hotel del Comahue  \n",
       "1         Hotel del Comahue  \n",
       "2              Hotel Tolosa  \n",
       "3             Hotel Cristal  \n",
       "4  Gran Hotel Mar del Plata  "
      ],
      "text/html": "<div>\n<style scoped>\n    .dataframe tbody tr th:only-of-type {\n        vertical-align: middle;\n    }\n\n    .dataframe tbody tr th {\n        vertical-align: top;\n    }\n\n    .dataframe thead th {\n        text-align: right;\n    }\n</style>\n<table border=\"1\" class=\"dataframe\">\n  <thead>\n    <tr style=\"text-align: right;\">\n      <th></th>\n      <th>City_ID</th>\n      <th>City</th>\n      <th>Country</th>\n      <th>Max Temp</th>\n      <th>Current Description</th>\n      <th>Lat</th>\n      <th>Lng</th>\n      <th>Hotel Name</th>\n    </tr>\n  </thead>\n  <tbody>\n    <tr>\n      <th>0</th>\n      <td>331</td>\n      <td>Neuquen</td>\n      <td>AR</td>\n      <td>84.20</td>\n      <td>clear sky</td>\n      <td>-38.95</td>\n      <td>-68.06</td>\n      <td>Hotel del Comahue</td>\n    </tr>\n    <tr>\n      <th>1</th>\n      <td>331</td>\n      <td>Neuquen</td>\n      <td>AR</td>\n      <td>84.20</td>\n      <td>clear sky</td>\n      <td>-38.95</td>\n      <td>-68.06</td>\n      <td>Hotel del Comahue</td>\n    </tr>\n    <tr>\n      <th>2</th>\n      <td>383</td>\n      <td>Puerto Madryn</td>\n      <td>AR</td>\n      <td>65.73</td>\n      <td>clear sky</td>\n      <td>-42.77</td>\n      <td>-65.04</td>\n      <td>Hotel Tolosa</td>\n    </tr>\n    <tr>\n      <th>3</th>\n      <td>177</td>\n      <td>Viedma</td>\n      <td>AR</td>\n      <td>69.01</td>\n      <td>clear sky</td>\n      <td>-40.81</td>\n      <td>-63.00</td>\n      <td>Hotel Cristal</td>\n    </tr>\n    <tr>\n      <th>4</th>\n      <td>3</td>\n      <td>Mar Del Plata</td>\n      <td>AR</td>\n      <td>78.80</td>\n      <td>broken clouds</td>\n      <td>-38.00</td>\n      <td>-57.56</td>\n      <td>Gran Hotel Mar del Plata</td>\n    </tr>\n  </tbody>\n</table>\n</div>"
     },
     "metadata": {},
     "execution_count": 17
    }
   ],
   "source": [
    "# 8. To create a marker layer map between the four cities.\n",
    "#  Combine the four city DataFrames into one DataFrame using the concat() function.\n",
    "itinerary_df = pd.concat([vacation_start, vacation_end, vacation_stop1, vacation_stop2, vacation_stop3],ignore_index=True)\n",
    "itinerary_df"
   ]
  },
  {
   "cell_type": "code",
   "execution_count": 18,
   "metadata": {},
   "outputs": [],
   "source": [
    "# 9 Using the template add city name, the country code, the weather description and maximum temperature for the city. \n",
    "info_box_template = \"\"\"\n",
    "<dl>\n",
    "<dt>Hotel Name</dt><dd>{Hotel Name}</dd>\n",
    "<dt>City</dt><dd>{City}</dd>\n",
    "<dt>Country</dt><dd>{Country}</dd>\n",
    "<dt>Current Description</dt><dd>{Current Description} at {Max Temp}</dd>\n",
    "\"\"\"\n",
    "\n",
    "# 10a Get the data from each row and add it to the formatting template and store the data in a list.\n",
    "hotel_info = [info_box_template.format(**row) for index, row in itinerary_df.iterrows()]\n",
    "\n",
    "# 10b. Get the latitude and longitude from each row and store in a new DataFrame.\n",
    "locations = itinerary_df[[\"Lat\", \"Lng\"]]"
   ]
  },
  {
   "cell_type": "code",
   "execution_count": 19,
   "metadata": {},
   "outputs": [
    {
     "output_type": "display_data",
     "data": {
      "text/plain": "Figure(layout=FigureLayout(height='420px'))",
      "application/vnd.jupyter.widget-view+json": {
       "version_major": 2,
       "version_minor": 0,
       "model_id": "423310521d2943f786f685f6c2f6282f"
      }
     },
     "metadata": {}
    }
   ],
   "source": [
    "# 11a. Add a marker layer for each city to the map.\n",
    "marker_layer = gmaps.marker_layer(locations, info_box_content=hotel_info)\n",
    "fig = gmaps.figure()\n",
    "fig.add_layer(marker_layer)\n",
    "# 11b. Display the figure\n",
    "fig"
   ]
  },
  {
   "cell_type": "code",
   "execution_count": null,
   "metadata": {},
   "outputs": [],
   "source": []
  }
 ],
 "metadata": {
  "kernelspec": {
   "name": "python3",
   "display_name": "Python 3.7.9 64-bit ('PythonData': conda)",
   "metadata": {
    "interpreter": {
     "hash": "73d2295efbc80b53a5f005ce14be1848a43fef00bf96c9fd3ef648403ae9609d"
    }
   }
  },
  "language_info": {
   "codemirror_mode": {
    "name": "ipython",
    "version": 3
   },
   "file_extension": ".py",
   "mimetype": "text/x-python",
   "name": "python",
   "nbconvert_exporter": "python",
   "pygments_lexer": "ipython3",
   "version": "3.7.9-final"
  },
  "latex_envs": {
   "LaTeX_envs_menu_present": true,
   "autoclose": false,
   "autocomplete": true,
   "bibliofile": "biblio.bib",
   "cite_by": "apalike",
   "current_citInitial": 1,
   "eqLabelWithNumbers": true,
   "eqNumInitial": 1,
   "hotkeys": {
    "equation": "Ctrl-E",
    "itemize": "Ctrl-I"
   },
   "labels_anchors": false,
   "latex_user_defs": false,
   "report_style_numbering": false,
   "user_envs_cfg": false
  }
 },
 "nbformat": 4,
 "nbformat_minor": 2
}