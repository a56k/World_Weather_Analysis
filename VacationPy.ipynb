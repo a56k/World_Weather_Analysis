{
 "cells": [
  {
   "cell_type": "markdown",
   "metadata": {},
   "source": [
    " # Create Heatmaps for Weather Parameters\n",
    " "
   ]
  },
  {
   "cell_type": "code",
   "execution_count": 2,
   "metadata": {},
   "outputs": [
    {
     "output_type": "stream",
     "name": "stdout",
     "text": [
      "Requirement already satisfied: gmaps in /Users/a56k/opt/anaconda3/lib/python3.8/site-packages (0.9.0)\n",
      "Requirement already satisfied: ipython>=5.3.0 in /Users/a56k/opt/anaconda3/lib/python3.8/site-packages (from gmaps) (7.16.1)\n",
      "Requirement already satisfied: geojson>=2.0.0 in /Users/a56k/opt/anaconda3/lib/python3.8/site-packages (from gmaps) (2.5.0)\n",
      "Requirement already satisfied: ipywidgets>=7.0.0 in /Users/a56k/opt/anaconda3/lib/python3.8/site-packages (from gmaps) (7.5.1)\n",
      "Requirement already satisfied: traitlets>=4.3.0 in /Users/a56k/opt/anaconda3/lib/python3.8/site-packages (from gmaps) (4.3.3)\n",
      "Requirement already satisfied: six in /Users/a56k/opt/anaconda3/lib/python3.8/site-packages (from gmaps) (1.15.0)\n",
      "Requirement already satisfied: pickleshare in /Users/a56k/opt/anaconda3/lib/python3.8/site-packages (from ipython>=5.3.0->gmaps) (0.7.5)\n",
      "Requirement already satisfied: appnope; sys_platform == \"darwin\" in /Users/a56k/opt/anaconda3/lib/python3.8/site-packages (from ipython>=5.3.0->gmaps) (0.1.0)\n",
      "Requirement already satisfied: decorator in /Users/a56k/opt/anaconda3/lib/python3.8/site-packages (from ipython>=5.3.0->gmaps) (4.4.2)\n",
      "Requirement already satisfied: backcall in /Users/a56k/opt/anaconda3/lib/python3.8/site-packages (from ipython>=5.3.0->gmaps) (0.2.0)\n",
      "Requirement already satisfied: pygments in /Users/a56k/opt/anaconda3/lib/python3.8/site-packages (from ipython>=5.3.0->gmaps) (2.6.1)\n",
      "Requirement already satisfied: prompt-toolkit!=3.0.0,!=3.0.1,<3.1.0,>=2.0.0 in /Users/a56k/opt/anaconda3/lib/python3.8/site-packages (from ipython>=5.3.0->gmaps) (3.0.5)\n",
      "Requirement already satisfied: pexpect; sys_platform != \"win32\" in /Users/a56k/opt/anaconda3/lib/python3.8/site-packages (from ipython>=5.3.0->gmaps) (4.8.0)\n",
      "Requirement already satisfied: setuptools>=18.5 in /Users/a56k/opt/anaconda3/lib/python3.8/site-packages (from ipython>=5.3.0->gmaps) (49.2.0.post20200714)\n",
      "Requirement already satisfied: jedi>=0.10 in /Users/a56k/opt/anaconda3/lib/python3.8/site-packages (from ipython>=5.3.0->gmaps) (0.17.1)\n",
      "Requirement already satisfied: widgetsnbextension~=3.5.0 in /Users/a56k/opt/anaconda3/lib/python3.8/site-packages (from ipywidgets>=7.0.0->gmaps) (3.5.1)\n",
      "Requirement already satisfied: nbformat>=4.2.0 in /Users/a56k/opt/anaconda3/lib/python3.8/site-packages (from ipywidgets>=7.0.0->gmaps) (5.0.7)\n",
      "Requirement already satisfied: ipykernel>=4.5.1 in /Users/a56k/opt/anaconda3/lib/python3.8/site-packages (from ipywidgets>=7.0.0->gmaps) (5.3.2)\n",
      "Requirement already satisfied: ipython-genutils in /Users/a56k/opt/anaconda3/lib/python3.8/site-packages (from traitlets>=4.3.0->gmaps) (0.2.0)\n",
      "Requirement already satisfied: wcwidth in /Users/a56k/opt/anaconda3/lib/python3.8/site-packages (from prompt-toolkit!=3.0.0,!=3.0.1,<3.1.0,>=2.0.0->ipython>=5.3.0->gmaps) (0.2.5)\n",
      "Requirement already satisfied: ptyprocess>=0.5 in /Users/a56k/opt/anaconda3/lib/python3.8/site-packages (from pexpect; sys_platform != \"win32\"->ipython>=5.3.0->gmaps) (0.6.0)\n",
      "Requirement already satisfied: parso<0.8.0,>=0.7.0 in /Users/a56k/opt/anaconda3/lib/python3.8/site-packages (from jedi>=0.10->ipython>=5.3.0->gmaps) (0.7.0)\n",
      "Requirement already satisfied: notebook>=4.4.1 in /Users/a56k/opt/anaconda3/lib/python3.8/site-packages (from widgetsnbextension~=3.5.0->ipywidgets>=7.0.0->gmaps) (6.0.3)\n",
      "Requirement already satisfied: jsonschema!=2.5.0,>=2.4 in /Users/a56k/opt/anaconda3/lib/python3.8/site-packages (from nbformat>=4.2.0->ipywidgets>=7.0.0->gmaps) (3.2.0)\n",
      "Requirement already satisfied: jupyter-core in /Users/a56k/opt/anaconda3/lib/python3.8/site-packages (from nbformat>=4.2.0->ipywidgets>=7.0.0->gmaps) (4.6.3)\n",
      "Requirement already satisfied: jupyter-client in /Users/a56k/opt/anaconda3/lib/python3.8/site-packages (from ipykernel>=4.5.1->ipywidgets>=7.0.0->gmaps) (6.1.6)\n",
      "Requirement already satisfied: tornado>=4.2 in /Users/a56k/opt/anaconda3/lib/python3.8/site-packages (from ipykernel>=4.5.1->ipywidgets>=7.0.0->gmaps) (6.0.4)\n",
      "Requirement already satisfied: Send2Trash in /Users/a56k/opt/anaconda3/lib/python3.8/site-packages (from notebook>=4.4.1->widgetsnbextension~=3.5.0->ipywidgets>=7.0.0->gmaps) (1.5.0)\n",
      "Requirement already satisfied: pyzmq>=17 in /Users/a56k/opt/anaconda3/lib/python3.8/site-packages (from notebook>=4.4.1->widgetsnbextension~=3.5.0->ipywidgets>=7.0.0->gmaps) (19.0.1)\n",
      "Requirement already satisfied: terminado>=0.8.1 in /Users/a56k/opt/anaconda3/lib/python3.8/site-packages (from notebook>=4.4.1->widgetsnbextension~=3.5.0->ipywidgets>=7.0.0->gmaps) (0.8.3)\n",
      "Requirement already satisfied: nbconvert in /Users/a56k/opt/anaconda3/lib/python3.8/site-packages (from notebook>=4.4.1->widgetsnbextension~=3.5.0->ipywidgets>=7.0.0->gmaps) (5.6.1)\n",
      "Requirement already satisfied: prometheus-client in /Users/a56k/opt/anaconda3/lib/python3.8/site-packages (from notebook>=4.4.1->widgetsnbextension~=3.5.0->ipywidgets>=7.0.0->gmaps) (0.8.0)\n",
      "Requirement already satisfied: jinja2 in /Users/a56k/opt/anaconda3/lib/python3.8/site-packages (from notebook>=4.4.1->widgetsnbextension~=3.5.0->ipywidgets>=7.0.0->gmaps) (2.11.2)\n",
      "Requirement already satisfied: attrs>=17.4.0 in /Users/a56k/opt/anaconda3/lib/python3.8/site-packages (from jsonschema!=2.5.0,>=2.4->nbformat>=4.2.0->ipywidgets>=7.0.0->gmaps) (19.3.0)\n",
      "Requirement already satisfied: pyrsistent>=0.14.0 in /Users/a56k/opt/anaconda3/lib/python3.8/site-packages (from jsonschema!=2.5.0,>=2.4->nbformat>=4.2.0->ipywidgets>=7.0.0->gmaps) (0.16.0)\n",
      "Requirement already satisfied: python-dateutil>=2.1 in /Users/a56k/opt/anaconda3/lib/python3.8/site-packages (from jupyter-client->ipykernel>=4.5.1->ipywidgets>=7.0.0->gmaps) (2.8.1)\n",
      "Requirement already satisfied: testpath in /Users/a56k/opt/anaconda3/lib/python3.8/site-packages (from nbconvert->notebook>=4.4.1->widgetsnbextension~=3.5.0->ipywidgets>=7.0.0->gmaps) (0.4.4)\n",
      "Requirement already satisfied: pandocfilters>=1.4.1 in /Users/a56k/opt/anaconda3/lib/python3.8/site-packages (from nbconvert->notebook>=4.4.1->widgetsnbextension~=3.5.0->ipywidgets>=7.0.0->gmaps) (1.4.2)\n",
      "Requirement already satisfied: defusedxml in /Users/a56k/opt/anaconda3/lib/python3.8/site-packages (from nbconvert->notebook>=4.4.1->widgetsnbextension~=3.5.0->ipywidgets>=7.0.0->gmaps) (0.6.0)\n",
      "Requirement already satisfied: bleach in /Users/a56k/opt/anaconda3/lib/python3.8/site-packages (from nbconvert->notebook>=4.4.1->widgetsnbextension~=3.5.0->ipywidgets>=7.0.0->gmaps) (3.1.5)\n",
      "Requirement already satisfied: mistune<2,>=0.8.1 in /Users/a56k/opt/anaconda3/lib/python3.8/site-packages (from nbconvert->notebook>=4.4.1->widgetsnbextension~=3.5.0->ipywidgets>=7.0.0->gmaps) (0.8.4)\n",
      "Requirement already satisfied: entrypoints>=0.2.2 in /Users/a56k/opt/anaconda3/lib/python3.8/site-packages (from nbconvert->notebook>=4.4.1->widgetsnbextension~=3.5.0->ipywidgets>=7.0.0->gmaps) (0.3)\n",
      "Requirement already satisfied: MarkupSafe>=0.23 in /Users/a56k/opt/anaconda3/lib/python3.8/site-packages (from jinja2->notebook>=4.4.1->widgetsnbextension~=3.5.0->ipywidgets>=7.0.0->gmaps) (1.1.1)\n",
      "Requirement already satisfied: webencodings in /Users/a56k/opt/anaconda3/lib/python3.8/site-packages (from bleach->nbconvert->notebook>=4.4.1->widgetsnbextension~=3.5.0->ipywidgets>=7.0.0->gmaps) (0.5.1)\n",
      "Requirement already satisfied: packaging in /Users/a56k/opt/anaconda3/lib/python3.8/site-packages (from bleach->nbconvert->notebook>=4.4.1->widgetsnbextension~=3.5.0->ipywidgets>=7.0.0->gmaps) (20.4)\n",
      "Requirement already satisfied: pyparsing>=2.0.2 in /Users/a56k/opt/anaconda3/lib/python3.8/site-packages (from packaging->bleach->nbconvert->notebook>=4.4.1->widgetsnbextension~=3.5.0->ipywidgets>=7.0.0->gmaps) (2.4.7)\n"
     ]
    }
   ],
   "source": [
    "!pip install gmaps"
   ]
  },
  {
   "cell_type": "code",
   "execution_count": 3,
   "metadata": {},
   "outputs": [],
   "source": [
    "# Import the dependencies.\n",
    "import pandas as pd\n",
    "import gmaps\n",
    "import requests\n",
    "# Import the API key.\n",
    "from config import g_key"
   ]
  },
  {
   "cell_type": "code",
   "execution_count": 4,
   "metadata": {},
   "outputs": [
    {
     "output_type": "execute_result",
     "data": {
      "text/plain": [
       "   City_ID               City Country                 Date    Lat     Lng  \\\n",
       "0        0          Busselton      AU  2020-12-23 18:05:45 -33.65  115.33   \n",
       "1        1      Mar Del Plata      AR  2020-12-23 18:04:46 -38.00  -57.56   \n",
       "2        2            Ushuaia      AR  2020-12-23 18:04:46 -54.80  -68.30   \n",
       "3        3              Jutai      BR  2020-12-23 18:05:45  -5.18  -68.90   \n",
       "4        4  Guadalupe Y Calvo      MX  2020-12-23 18:05:46  26.10 -106.97   \n",
       "\n",
       "   Max Temp  Humidity  Cloudiness  Wind Speed  \n",
       "0     73.00        54          43        7.00  \n",
       "1     91.40        26           0       21.92  \n",
       "2     60.80        38          40       23.04  \n",
       "3     84.51        75          99        2.86  \n",
       "4     59.11        29          13        8.01  "
      ],
      "text/html": "<div>\n<style scoped>\n    .dataframe tbody tr th:only-of-type {\n        vertical-align: middle;\n    }\n\n    .dataframe tbody tr th {\n        vertical-align: top;\n    }\n\n    .dataframe thead th {\n        text-align: right;\n    }\n</style>\n<table border=\"1\" class=\"dataframe\">\n  <thead>\n    <tr style=\"text-align: right;\">\n      <th></th>\n      <th>City_ID</th>\n      <th>City</th>\n      <th>Country</th>\n      <th>Date</th>\n      <th>Lat</th>\n      <th>Lng</th>\n      <th>Max Temp</th>\n      <th>Humidity</th>\n      <th>Cloudiness</th>\n      <th>Wind Speed</th>\n    </tr>\n  </thead>\n  <tbody>\n    <tr>\n      <th>0</th>\n      <td>0</td>\n      <td>Busselton</td>\n      <td>AU</td>\n      <td>2020-12-23 18:05:45</td>\n      <td>-33.65</td>\n      <td>115.33</td>\n      <td>73.00</td>\n      <td>54</td>\n      <td>43</td>\n      <td>7.00</td>\n    </tr>\n    <tr>\n      <th>1</th>\n      <td>1</td>\n      <td>Mar Del Plata</td>\n      <td>AR</td>\n      <td>2020-12-23 18:04:46</td>\n      <td>-38.00</td>\n      <td>-57.56</td>\n      <td>91.40</td>\n      <td>26</td>\n      <td>0</td>\n      <td>21.92</td>\n    </tr>\n    <tr>\n      <th>2</th>\n      <td>2</td>\n      <td>Ushuaia</td>\n      <td>AR</td>\n      <td>2020-12-23 18:04:46</td>\n      <td>-54.80</td>\n      <td>-68.30</td>\n      <td>60.80</td>\n      <td>38</td>\n      <td>40</td>\n      <td>23.04</td>\n    </tr>\n    <tr>\n      <th>3</th>\n      <td>3</td>\n      <td>Jutai</td>\n      <td>BR</td>\n      <td>2020-12-23 18:05:45</td>\n      <td>-5.18</td>\n      <td>-68.90</td>\n      <td>84.51</td>\n      <td>75</td>\n      <td>99</td>\n      <td>2.86</td>\n    </tr>\n    <tr>\n      <th>4</th>\n      <td>4</td>\n      <td>Guadalupe Y Calvo</td>\n      <td>MX</td>\n      <td>2020-12-23 18:05:46</td>\n      <td>26.10</td>\n      <td>-106.97</td>\n      <td>59.11</td>\n      <td>29</td>\n      <td>13</td>\n      <td>8.01</td>\n    </tr>\n  </tbody>\n</table>\n</div>"
     },
     "metadata": {},
     "execution_count": 4
    }
   ],
   "source": [
    "# Store the CSV you saved created in part one into a DataFrame.\n",
    "city_data_df = pd.read_csv(\"weather_data/cities.csv\")\n",
    "city_data_df.head()"
   ]
  },
  {
   "cell_type": "code",
   "execution_count": 5,
   "metadata": {},
   "outputs": [
    {
     "output_type": "execute_result",
     "data": {
      "text/plain": [
       "City_ID         int64\n",
       "City           object\n",
       "Country        object\n",
       "Date           object\n",
       "Lat           float64\n",
       "Lng           float64\n",
       "Max Temp      float64\n",
       "Humidity        int64\n",
       "Cloudiness      int64\n",
       "Wind Speed    float64\n",
       "dtype: object"
      ]
     },
     "metadata": {},
     "execution_count": 5
    }
   ],
   "source": [
    "# Get the data Types\n",
    "city_data_df.dtypes"
   ]
  },
  {
   "cell_type": "markdown",
   "metadata": {},
   "source": [
    "### Create a Maximum Temperature Heatmap"
   ]
  },
  {
   "cell_type": "code",
   "execution_count": 6,
   "metadata": {},
   "outputs": [],
   "source": [
    "# Configure gmaps to use your Google API key.\n",
    "gmaps.configure(api_key=g_key)"
   ]
  },
  {
   "cell_type": "code",
   "execution_count": 7,
   "metadata": {},
   "outputs": [],
   "source": [
    "# Get the maximum temperature.\n",
    "max_temp = city_data_df[\"Max Temp\"]\n",
    "temps = []\n",
    "for temp in max_temp:\n",
    "    temps.append(max(temp, 0))"
   ]
  },
  {
   "cell_type": "code",
   "execution_count": 8,
   "metadata": {},
   "outputs": [
    {
     "output_type": "display_data",
     "data": {
      "text/plain": "Figure(layout=FigureLayout(height='420px'))",
      "application/vnd.jupyter.widget-view+json": {
       "version_major": 2,
       "version_minor": 0,
       "model_id": "4a8b872971fe4b55b83402e006f82f5a"
      }
     },
     "metadata": {}
    }
   ],
   "source": [
    "# Heatmap of temperature\n",
    "\n",
    "# Get the latitude and longitude.\n",
    "locations = city_data_df[[\"Lat\", \"Lng\"]]\n",
    "\n",
    "# Get the maximum temperature.\n",
    "max_temp = city_data_df[\"Max Temp\"]\n",
    "\n",
    "# Assign the figure variable.\n",
    "fig = gmaps.figure(center=(30.0, 31.0), zoom_level=1.5)\n",
    "\n",
    "# Assign the heatmap variable.\n",
    "heat_layer = gmaps.heatmap_layer(locations, weights=temps, dissipating=False, max_intensity=300, point_radius=4)\n",
    "# Add the heatmap layer.\n",
    "fig.add_layer(heat_layer)\n",
    "\n",
    "# Call the figure to plot the data.\n",
    "fig"
   ]
  },
  {
   "cell_type": "code",
   "execution_count": 9,
   "metadata": {},
   "outputs": [],
   "source": [
    "heat_layer = gmaps.heatmap_layer(locations, weights=[max(temp, 0) for temp in max_temp])"
   ]
  },
  {
   "cell_type": "markdown",
   "metadata": {},
   "source": [
    "### Create a Percent Humidity Heatmap"
   ]
  },
  {
   "cell_type": "code",
   "execution_count": 10,
   "metadata": {},
   "outputs": [
    {
     "output_type": "display_data",
     "data": {
      "text/plain": "Figure(layout=FigureLayout(height='420px'))",
      "application/vnd.jupyter.widget-view+json": {
       "version_major": 2,
       "version_minor": 0,
       "model_id": "17de417bf5e845a3b060642e9a98c427"
      }
     },
     "metadata": {}
    }
   ],
   "source": [
    "# Heatmap of percent humidity\n",
    "locations = city_data_df[[\"Lat\", \"Lng\"]]\n",
    "humidity = city_data_df[\"Humidity\"]\n",
    "fig = gmaps.figure(center=(30.0, 31.0), zoom_level=1.5)\n",
    "heat_layer = gmaps.heatmap_layer(locations, weights=humidity, dissipating=False, max_intensity=300, point_radius=4)\n",
    "\n",
    "fig.add_layer(heat_layer)\n",
    "# Call the figure to plot the data.\n",
    "fig"
   ]
  },
  {
   "cell_type": "code",
   "execution_count": 12,
   "metadata": {},
   "outputs": [],
   "source": [
    "### CReate a Percent Cloudiness Heatmap"
   ]
  },
  {
   "cell_type": "code",
   "execution_count": 14,
   "metadata": {},
   "outputs": [
    {
     "output_type": "display_data",
     "data": {
      "text/plain": "Figure(layout=FigureLayout(height='420px'))",
      "application/vnd.jupyter.widget-view+json": {
       "version_major": 2,
       "version_minor": 0,
       "model_id": "101b92584d0343b5b39f134bc719e015"
      }
     },
     "metadata": {}
    }
   ],
   "source": [
    "# Heatmap of percent Cloiudiness\n",
    "locations = city_data_df[[\"Lat\", \"Lng\"]]\n",
    "clouds = city_data_df[\"Cloudiness\"]\n",
    "fig = gmaps.figure(center=(30.0, 31.0), zoom_level=1.5)\n",
    "heat_layer = gmaps.heatmap_layer(locations, weights=clouds, dissipating=False, max_intensity=300, point_radius=4)\n",
    "\n",
    "fig.add_layer(heat_layer)\n",
    "# Call the figure to plot the data.\n",
    "fig"
   ]
  },
  {
   "cell_type": "code",
   "execution_count": 15,
   "metadata": {},
   "outputs": [],
   "source": [
    "### Create a Wind Speed HeatMap"
   ]
  },
  {
   "cell_type": "code",
   "execution_count": 16,
   "metadata": {},
   "outputs": [
    {
     "output_type": "display_data",
     "data": {
      "text/plain": "Figure(layout=FigureLayout(height='420px'))",
      "application/vnd.jupyter.widget-view+json": {
       "version_major": 2,
       "version_minor": 0,
       "model_id": "3d79632f266147588b29e8bed083d35d"
      }
     },
     "metadata": {}
    }
   ],
   "source": [
    "# Heatmap of percent Cloiudiness\n",
    "locations = city_data_df[[\"Lat\", \"Lng\"]]\n",
    "wind = city_data_df[\"Wind Speed\"]\n",
    "fig = gmaps.figure(center=(30.0, 31.0), zoom_level=1.5)\n",
    "heat_layer = gmaps.heatmap_layer(locations, weights=wind, dissipating=False, max_intensity=300, point_radius=4)\n",
    "\n",
    "fig.add_layer(heat_layer)\n",
    "# Call the figure to plot the data.\n",
    "fig"
   ]
  },
  {
   "cell_type": "code",
   "execution_count": 18,
   "metadata": {},
   "outputs": [],
   "source": [
    "#// 6.5.3 GEt Vacation Criteria"
   ]
  },
  {
   "cell_type": "code",
   "execution_count": 19,
   "metadata": {},
   "outputs": [],
   "source": [
    "# Ask the customer to add a minimum and maximum temperature value.\n",
    "min_temp = float(input(\"What is the minimum temperature you would like for your trip? \"))\n",
    "max_temp = float(input(\"What is the maximum temperature you would like for your trip? \"))"
   ]
  },
  {
   "cell_type": "code",
   "execution_count": 20,
   "metadata": {},
   "outputs": [
    {
     "output_type": "execute_result",
     "data": {
      "text/plain": [
       "    City_ID        City Country                 Date    Lat     Lng  Max Temp  \\\n",
       "3         3       Jutai      BR  2020-12-23 18:05:45  -5.18  -68.90     84.51   \n",
       "5         5  Balikpapan      ID  2020-12-23 18:05:46  -1.27  116.83     76.93   \n",
       "20       20  Georgetown      MY  2020-12-23 18:01:50   5.41  100.34     78.80   \n",
       "26       26     Rikitea      PF  2020-12-23 18:05:53 -23.12 -134.97     76.86   \n",
       "30       30       Metro      ID  2020-12-23 18:05:54  -5.11  105.31     77.63   \n",
       "31       31    Lorengau      PG  2020-12-23 18:05:55  -2.02  147.27     81.36   \n",
       "34       34        Unai      BR  2020-12-23 18:05:56 -16.36  -46.91     80.29   \n",
       "35       35    Techiman      GH  2020-12-23 18:05:56   7.59   -1.94     84.74   \n",
       "38       38      Castro      BR  2020-12-23 18:05:57 -24.79  -50.01     77.47   \n",
       "43       43    Souillac      MU  2020-12-23 18:05:58 -20.52   57.52     78.80   \n",
       "\n",
       "    Humidity  Cloudiness  Wind Speed  \n",
       "3         75          99        2.86  \n",
       "5         89         100        3.15  \n",
       "20        83          20        3.36  \n",
       "26        68           3        5.32  \n",
       "30        87          77        3.94  \n",
       "31        76         100        2.19  \n",
       "34        70         100        4.65  \n",
       "35        40          17        4.45  \n",
       "38        62          33        4.27  \n",
       "43        83          75       13.87  "
      ],
      "text/html": "<div>\n<style scoped>\n    .dataframe tbody tr th:only-of-type {\n        vertical-align: middle;\n    }\n\n    .dataframe tbody tr th {\n        vertical-align: top;\n    }\n\n    .dataframe thead th {\n        text-align: right;\n    }\n</style>\n<table border=\"1\" class=\"dataframe\">\n  <thead>\n    <tr style=\"text-align: right;\">\n      <th></th>\n      <th>City_ID</th>\n      <th>City</th>\n      <th>Country</th>\n      <th>Date</th>\n      <th>Lat</th>\n      <th>Lng</th>\n      <th>Max Temp</th>\n      <th>Humidity</th>\n      <th>Cloudiness</th>\n      <th>Wind Speed</th>\n    </tr>\n  </thead>\n  <tbody>\n    <tr>\n      <th>3</th>\n      <td>3</td>\n      <td>Jutai</td>\n      <td>BR</td>\n      <td>2020-12-23 18:05:45</td>\n      <td>-5.18</td>\n      <td>-68.90</td>\n      <td>84.51</td>\n      <td>75</td>\n      <td>99</td>\n      <td>2.86</td>\n    </tr>\n    <tr>\n      <th>5</th>\n      <td>5</td>\n      <td>Balikpapan</td>\n      <td>ID</td>\n      <td>2020-12-23 18:05:46</td>\n      <td>-1.27</td>\n      <td>116.83</td>\n      <td>76.93</td>\n      <td>89</td>\n      <td>100</td>\n      <td>3.15</td>\n    </tr>\n    <tr>\n      <th>20</th>\n      <td>20</td>\n      <td>Georgetown</td>\n      <td>MY</td>\n      <td>2020-12-23 18:01:50</td>\n      <td>5.41</td>\n      <td>100.34</td>\n      <td>78.80</td>\n      <td>83</td>\n      <td>20</td>\n      <td>3.36</td>\n    </tr>\n    <tr>\n      <th>26</th>\n      <td>26</td>\n      <td>Rikitea</td>\n      <td>PF</td>\n      <td>2020-12-23 18:05:53</td>\n      <td>-23.12</td>\n      <td>-134.97</td>\n      <td>76.86</td>\n      <td>68</td>\n      <td>3</td>\n      <td>5.32</td>\n    </tr>\n    <tr>\n      <th>30</th>\n      <td>30</td>\n      <td>Metro</td>\n      <td>ID</td>\n      <td>2020-12-23 18:05:54</td>\n      <td>-5.11</td>\n      <td>105.31</td>\n      <td>77.63</td>\n      <td>87</td>\n      <td>77</td>\n      <td>3.94</td>\n    </tr>\n    <tr>\n      <th>31</th>\n      <td>31</td>\n      <td>Lorengau</td>\n      <td>PG</td>\n      <td>2020-12-23 18:05:55</td>\n      <td>-2.02</td>\n      <td>147.27</td>\n      <td>81.36</td>\n      <td>76</td>\n      <td>100</td>\n      <td>2.19</td>\n    </tr>\n    <tr>\n      <th>34</th>\n      <td>34</td>\n      <td>Unai</td>\n      <td>BR</td>\n      <td>2020-12-23 18:05:56</td>\n      <td>-16.36</td>\n      <td>-46.91</td>\n      <td>80.29</td>\n      <td>70</td>\n      <td>100</td>\n      <td>4.65</td>\n    </tr>\n    <tr>\n      <th>35</th>\n      <td>35</td>\n      <td>Techiman</td>\n      <td>GH</td>\n      <td>2020-12-23 18:05:56</td>\n      <td>7.59</td>\n      <td>-1.94</td>\n      <td>84.74</td>\n      <td>40</td>\n      <td>17</td>\n      <td>4.45</td>\n    </tr>\n    <tr>\n      <th>38</th>\n      <td>38</td>\n      <td>Castro</td>\n      <td>BR</td>\n      <td>2020-12-23 18:05:57</td>\n      <td>-24.79</td>\n      <td>-50.01</td>\n      <td>77.47</td>\n      <td>62</td>\n      <td>33</td>\n      <td>4.27</td>\n    </tr>\n    <tr>\n      <th>43</th>\n      <td>43</td>\n      <td>Souillac</td>\n      <td>MU</td>\n      <td>2020-12-23 18:05:58</td>\n      <td>-20.52</td>\n      <td>57.52</td>\n      <td>78.80</td>\n      <td>83</td>\n      <td>75</td>\n      <td>13.87</td>\n    </tr>\n  </tbody>\n</table>\n</div>"
     },
     "metadata": {},
     "execution_count": 20
    }
   ],
   "source": [
    "# Filter the dataset to find the cities that fit the criteria.\n",
    "preferred_cities_df = city_data_df.loc[(city_data_df[\"Max Temp\"] <= max_temp) & \\\n",
    "                                       (city_data_df[\"Max Temp\"] >= min_temp)]\n",
    "preferred_cities_df.head(10)"
   ]
  },
  {
   "cell_type": "code",
   "execution_count": 21,
   "metadata": {},
   "outputs": [
    {
     "output_type": "execute_result",
     "data": {
      "text/plain": [
       "City_ID       172\n",
       "City          172\n",
       "Country       171\n",
       "Date          172\n",
       "Lat           172\n",
       "Lng           172\n",
       "Max Temp      172\n",
       "Humidity      172\n",
       "Cloudiness    172\n",
       "Wind Speed    172\n",
       "dtype: int64"
      ]
     },
     "metadata": {},
     "execution_count": 21
    }
   ],
   "source": [
    "preferred_cities_df.count()"
   ]
  },
  {
   "cell_type": "code",
   "execution_count": 22,
   "metadata": {},
   "outputs": [],
   "source": [
    "#\\\\ 6.5.4 MAP Vcation Criteria"
   ]
  },
  {
   "cell_type": "code",
   "execution_count": 23,
   "metadata": {},
   "outputs": [
    {
     "output_type": "execute_result",
     "data": {
      "text/plain": [
       "          City Country  Max Temp    Lat     Lng Hotel Name\n",
       "3        Jutai      BR     84.51  -5.18  -68.90           \n",
       "5   Balikpapan      ID     76.93  -1.27  116.83           \n",
       "20  Georgetown      MY     78.80   5.41  100.34           \n",
       "26     Rikitea      PF     76.86 -23.12 -134.97           \n",
       "30       Metro      ID     77.63  -5.11  105.31           \n",
       "31    Lorengau      PG     81.36  -2.02  147.27           \n",
       "34        Unai      BR     80.29 -16.36  -46.91           \n",
       "35    Techiman      GH     84.74   7.59   -1.94           \n",
       "38      Castro      BR     77.47 -24.79  -50.01           \n",
       "43    Souillac      MU     78.80 -20.52   57.52           "
      ],
      "text/html": "<div>\n<style scoped>\n    .dataframe tbody tr th:only-of-type {\n        vertical-align: middle;\n    }\n\n    .dataframe tbody tr th {\n        vertical-align: top;\n    }\n\n    .dataframe thead th {\n        text-align: right;\n    }\n</style>\n<table border=\"1\" class=\"dataframe\">\n  <thead>\n    <tr style=\"text-align: right;\">\n      <th></th>\n      <th>City</th>\n      <th>Country</th>\n      <th>Max Temp</th>\n      <th>Lat</th>\n      <th>Lng</th>\n      <th>Hotel Name</th>\n    </tr>\n  </thead>\n  <tbody>\n    <tr>\n      <th>3</th>\n      <td>Jutai</td>\n      <td>BR</td>\n      <td>84.51</td>\n      <td>-5.18</td>\n      <td>-68.90</td>\n      <td></td>\n    </tr>\n    <tr>\n      <th>5</th>\n      <td>Balikpapan</td>\n      <td>ID</td>\n      <td>76.93</td>\n      <td>-1.27</td>\n      <td>116.83</td>\n      <td></td>\n    </tr>\n    <tr>\n      <th>20</th>\n      <td>Georgetown</td>\n      <td>MY</td>\n      <td>78.80</td>\n      <td>5.41</td>\n      <td>100.34</td>\n      <td></td>\n    </tr>\n    <tr>\n      <th>26</th>\n      <td>Rikitea</td>\n      <td>PF</td>\n      <td>76.86</td>\n      <td>-23.12</td>\n      <td>-134.97</td>\n      <td></td>\n    </tr>\n    <tr>\n      <th>30</th>\n      <td>Metro</td>\n      <td>ID</td>\n      <td>77.63</td>\n      <td>-5.11</td>\n      <td>105.31</td>\n      <td></td>\n    </tr>\n    <tr>\n      <th>31</th>\n      <td>Lorengau</td>\n      <td>PG</td>\n      <td>81.36</td>\n      <td>-2.02</td>\n      <td>147.27</td>\n      <td></td>\n    </tr>\n    <tr>\n      <th>34</th>\n      <td>Unai</td>\n      <td>BR</td>\n      <td>80.29</td>\n      <td>-16.36</td>\n      <td>-46.91</td>\n      <td></td>\n    </tr>\n    <tr>\n      <th>35</th>\n      <td>Techiman</td>\n      <td>GH</td>\n      <td>84.74</td>\n      <td>7.59</td>\n      <td>-1.94</td>\n      <td></td>\n    </tr>\n    <tr>\n      <th>38</th>\n      <td>Castro</td>\n      <td>BR</td>\n      <td>77.47</td>\n      <td>-24.79</td>\n      <td>-50.01</td>\n      <td></td>\n    </tr>\n    <tr>\n      <th>43</th>\n      <td>Souillac</td>\n      <td>MU</td>\n      <td>78.80</td>\n      <td>-20.52</td>\n      <td>57.52</td>\n      <td></td>\n    </tr>\n  </tbody>\n</table>\n</div>"
     },
     "metadata": {},
     "execution_count": 23
    }
   ],
   "source": [
    "# Create DataFrame called hotel_df to store hotel names along with city, country, max temp, and coordinates.\n",
    "hotel_df = preferred_cities_df[[\"City\", \"Country\", \"Max Temp\", \"Lat\", \"Lng\"]].copy()\n",
    "hotel_df[\"Hotel Name\"] = \"\"\n",
    "hotel_df.head(10)"
   ]
  },
  {
   "cell_type": "code",
   "execution_count": 25,
   "metadata": {},
   "outputs": [
    {
     "output_type": "stream",
     "name": "stdout",
     "text": [
      "Hotel not found...skipping.\n",
      "Hotel not found...skipping.\n",
      "Hotel not found...skipping.\n",
      "Hotel not found...skipping.\n",
      "Hotel not found...skipping.\n",
      "Hotel not found...skipping.\n",
      "Hotel not found...skipping.\n",
      "Hotel not found...skipping.\n",
      "Hotel not found...skipping.\n"
     ]
    },
    {
     "output_type": "execute_result",
     "data": {
      "text/plain": [
       "          City Country  Max Temp    Lat     Lng                    Hotel Name\n",
       "3        Jutai      BR     84.51  -5.18  -68.90                              \n",
       "5   Balikpapan      ID     76.93  -1.27  116.83  Grand Jatra Hotel Balikpapan\n",
       "20  Georgetown      MY     78.80   5.41  100.34                Cititel Penang\n",
       "26     Rikitea      PF     76.86 -23.12 -134.97                Pension Maro'i\n",
       "30       Metro      ID     77.63  -5.11  105.31        OYO 3177 Wisma Lintang\n",
       "31    Lorengau      PG     81.36  -2.02  147.27    Lorengau Harbourside Hotel\n",
       "34        Unai      BR     80.29 -16.36  -46.91                 Hotel Regente\n",
       "35    Techiman      GH     84.74   7.59   -1.94             KONTINENTAL LODGE\n",
       "38      Castro      BR     77.47 -24.79  -50.01                CHACARA BAILLY\n",
       "43    Souillac      MU     78.80 -20.52   57.52                   Bils' Villa"
      ],
      "text/html": "<div>\n<style scoped>\n    .dataframe tbody tr th:only-of-type {\n        vertical-align: middle;\n    }\n\n    .dataframe tbody tr th {\n        vertical-align: top;\n    }\n\n    .dataframe thead th {\n        text-align: right;\n    }\n</style>\n<table border=\"1\" class=\"dataframe\">\n  <thead>\n    <tr style=\"text-align: right;\">\n      <th></th>\n      <th>City</th>\n      <th>Country</th>\n      <th>Max Temp</th>\n      <th>Lat</th>\n      <th>Lng</th>\n      <th>Hotel Name</th>\n    </tr>\n  </thead>\n  <tbody>\n    <tr>\n      <th>3</th>\n      <td>Jutai</td>\n      <td>BR</td>\n      <td>84.51</td>\n      <td>-5.18</td>\n      <td>-68.90</td>\n      <td></td>\n    </tr>\n    <tr>\n      <th>5</th>\n      <td>Balikpapan</td>\n      <td>ID</td>\n      <td>76.93</td>\n      <td>-1.27</td>\n      <td>116.83</td>\n      <td>Grand Jatra Hotel Balikpapan</td>\n    </tr>\n    <tr>\n      <th>20</th>\n      <td>Georgetown</td>\n      <td>MY</td>\n      <td>78.80</td>\n      <td>5.41</td>\n      <td>100.34</td>\n      <td>Cititel Penang</td>\n    </tr>\n    <tr>\n      <th>26</th>\n      <td>Rikitea</td>\n      <td>PF</td>\n      <td>76.86</td>\n      <td>-23.12</td>\n      <td>-134.97</td>\n      <td>Pension Maro'i</td>\n    </tr>\n    <tr>\n      <th>30</th>\n      <td>Metro</td>\n      <td>ID</td>\n      <td>77.63</td>\n      <td>-5.11</td>\n      <td>105.31</td>\n      <td>OYO 3177 Wisma Lintang</td>\n    </tr>\n    <tr>\n      <th>31</th>\n      <td>Lorengau</td>\n      <td>PG</td>\n      <td>81.36</td>\n      <td>-2.02</td>\n      <td>147.27</td>\n      <td>Lorengau Harbourside Hotel</td>\n    </tr>\n    <tr>\n      <th>34</th>\n      <td>Unai</td>\n      <td>BR</td>\n      <td>80.29</td>\n      <td>-16.36</td>\n      <td>-46.91</td>\n      <td>Hotel Regente</td>\n    </tr>\n    <tr>\n      <th>35</th>\n      <td>Techiman</td>\n      <td>GH</td>\n      <td>84.74</td>\n      <td>7.59</td>\n      <td>-1.94</td>\n      <td>KONTINENTAL LODGE</td>\n    </tr>\n    <tr>\n      <th>38</th>\n      <td>Castro</td>\n      <td>BR</td>\n      <td>77.47</td>\n      <td>-24.79</td>\n      <td>-50.01</td>\n      <td>CHACARA BAILLY</td>\n    </tr>\n    <tr>\n      <th>43</th>\n      <td>Souillac</td>\n      <td>MU</td>\n      <td>78.80</td>\n      <td>-20.52</td>\n      <td>57.52</td>\n      <td>Bils' Villa</td>\n    </tr>\n  </tbody>\n</table>\n</div>"
     },
     "metadata": {},
     "execution_count": 25
    }
   ],
   "source": [
    "# Set the parameters to search for a hotel in Paris.\n",
    "params = {\n",
    "    \"radius\": 5000,\n",
    "    \"types\": \"lodging\",\n",
    "    \"key\": g_key,\n",
    "}\n",
    "\n",
    "# Iterate through the DataFrame.\n",
    "for index, row in hotel_df.iterrows():\n",
    "    # Get the latitude and longitude.\n",
    "    lat = row[\"Lat\"]\n",
    "    lng = row[\"Lng\"]\n",
    "\n",
    "    # Add the latitude and longitude to location key for the params dictionary.\n",
    "    params[\"location\"] = f\"{lat},{lng}\"\n",
    "\n",
    "    # Use the search term: \"lodging\" and our latitude and longitude.\n",
    "    base_url = \"https://maps.googleapis.com/maps/api/place/nearbysearch/json\"\n",
    "    # Make request and get the JSON data from the search.\n",
    "    hotels = requests.get(base_url, params=params).json()\n",
    "    # Grab the first hotel from the results and store the name.\n",
    "    try:\n",
    "        hotel_df.loc[index, \"Hotel Name\"] = hotels[\"results\"][0][\"name\"]\n",
    "    except (IndexError):\n",
    "        print(\"Hotel not found...skipping.\")\n",
    "\n",
    "hotel_df.head(10)"
   ]
  },
  {
   "cell_type": "code",
   "execution_count": 26,
   "metadata": {},
   "outputs": [],
   "source": [
    "### Create a Maximum Temperature Heatmap from a Hotel Dataframe"
   ]
  },
  {
   "cell_type": "code",
   "execution_count": 27,
   "metadata": {},
   "outputs": [
    {
     "output_type": "display_data",
     "data": {
      "text/plain": "Figure(layout=FigureLayout(height='420px'))",
      "application/vnd.jupyter.widget-view+json": {
       "version_major": 2,
       "version_minor": 0,
       "model_id": "8ba8458d119b46a093fb8adab73331de"
      }
     },
     "metadata": {}
    }
   ],
   "source": [
    "# Add a heatmap of temperature for the vacation spots.\n",
    "locations = hotel_df[[\"Lat\", \"Lng\"]]\n",
    "max_temp = hotel_df[\"Max Temp\"]\n",
    "fig = gmaps.figure(center=(30.0, 31.0), zoom_level=1.5)\n",
    "heat_layer = gmaps.heatmap_layer(locations, weights=max_temp, dissipating=False,\n",
    "             max_intensity=300, point_radius=4)\n",
    "\n",
    "fig.add_layer(heat_layer)\n",
    "# Call the figure to plot the data.\n",
    "fig"
   ]
  },
  {
   "cell_type": "code",
   "execution_count": 28,
   "metadata": {},
   "outputs": [
    {
     "output_type": "display_data",
     "data": {
      "text/plain": "Figure(layout=FigureLayout(height='420px'))",
      "application/vnd.jupyter.widget-view+json": {
       "version_major": 2,
       "version_minor": 0,
       "model_id": "89683b3f650a46c5b8b2b40303bc80cd"
      }
     },
     "metadata": {}
    }
   ],
   "source": [
    "# Add a heatmap of temperature for the vacation spots and marker for each city.\n",
    "locations = hotel_df[[\"Lat\", \"Lng\"]]\n",
    "max_temp = hotel_df[\"Max Temp\"]\n",
    "fig = gmaps.figure(center=(30.0, 31.0), zoom_level=1.5)\n",
    "heat_layer = gmaps.heatmap_layer(locations, weights=max_temp,\n",
    "             dissipating=False, max_intensity=300, point_radius=4)\n",
    "marker_layer = gmaps.marker_layer(locations)\n",
    "fig.add_layer(heat_layer)\n",
    "fig.add_layer(marker_layer)\n",
    "# Call the figure to plot the data.\n",
    "fig"
   ]
  },
  {
   "cell_type": "code",
   "execution_count": 29,
   "metadata": {},
   "outputs": [],
   "source": [
    "info_box_template = \"\"\"\n",
    "<dl>\n",
    "<dt>Name</dt><dd>{column1}</dd>\n",
    "<dt>Another name</dt><dd>{column2}</dd>\n",
    "</dl>\n",
    "\"\"\""
   ]
  },
  {
   "cell_type": "code",
   "execution_count": 30,
   "metadata": {},
   "outputs": [],
   "source": [
    "info_box_template = \"\"\"\n",
    "<dl>\n",
    "<dt>Hotel Name</dt><dd>{Hotel Name}</dd>\n",
    "<dt>City</dt><dd>{City}</dd>\n",
    "<dt>Country</dt><dd>{Country}</dd>\n",
    "<dt>Max Temp</dt><dd>{Max Temp} °F</dd>\n",
    "</dl>\n",
    "\"\"\"\n"
   ]
  },
  {
   "cell_type": "code",
   "execution_count": 31,
   "metadata": {},
   "outputs": [],
   "source": [
    "# Store the DataFrame Row.\n",
    "hotel_info = [info_box_template.format(**row) for index, row in hotel_df.iterrows()]"
   ]
  },
  {
   "cell_type": "code",
   "execution_count": 32,
   "metadata": {},
   "outputs": [
    {
     "output_type": "display_data",
     "data": {
      "text/plain": "Figure(layout=FigureLayout(height='420px'))",
      "application/vnd.jupyter.widget-view+json": {
       "version_major": 2,
       "version_minor": 0,
       "model_id": "ef0263d2ce0845658f037e57dfe4f444"
      }
     },
     "metadata": {}
    }
   ],
   "source": [
    "# Add a heatmap of temperature for the vacation spots and a pop-up marker for each city.\n",
    "locations = hotel_df[[\"Lat\", \"Lng\"]]\n",
    "max_temp = hotel_df[\"Max Temp\"]\n",
    "fig = gmaps.figure(center=(30.0, 31.0), zoom_level=1.5)\n",
    "heat_layer = gmaps.heatmap_layer(locations, weights=max_temp,dissipating=False,\n",
    "             max_intensity=300, point_radius=4)\n",
    "marker_layer = gmaps.marker_layer(locations, info_box_content=hotel_info)\n",
    "fig.add_layer(heat_layer)\n",
    "fig.add_layer(marker_layer)\n",
    "\n",
    "# Call the figure to plot the data.\n",
    "fig"
   ]
  },
  {
   "cell_type": "code",
   "execution_count": null,
   "metadata": {},
   "outputs": [],
   "source": []
  }
 ],
 "metadata": {
  "kernelspec": {
   "display_name": "PythonData",
   "language": "python",
   "name": "pythondata"
  },
  "language_info": {
   "codemirror_mode": {
    "name": "ipython",
    "version": 3
   },
   "file_extension": ".py",
   "mimetype": "text/x-python",
   "name": "python",
   "nbconvert_exporter": "python",
   "pygments_lexer": "ipython3",
   "version": "3.8.3-final"
  },
  "widgets": {
   "application/vnd.jupyter.widget-state+json": {
    "state": {},
    "version_major": 2,
    "version_minor": 0
   }
  }
 },
 "nbformat": 4,
 "nbformat_minor": 4
}