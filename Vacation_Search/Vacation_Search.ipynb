{
 "cells": [
  {
   "cell_type": "markdown",
   "metadata": {},
   "source": [
    "## Deliverable 2. Create a Customer Travel Destinations Map."
   ]
  },
  {
   "cell_type": "code",
   "execution_count": 1,
   "metadata": {},
   "outputs": [
    {
     "output_type": "error",
     "ename": "ModuleNotFoundError",
     "evalue": "No module named 'config'",
     "traceback": [
      "\u001b[0;31m---------------------------------------------------------------------------\u001b[0m",
      "\u001b[0;31mModuleNotFoundError\u001b[0m                       Traceback (most recent call last)",
      "\u001b[0;32m<ipython-input-1-329a25179623>\u001b[0m in \u001b[0;36m<module>\u001b[0;34m\u001b[0m\n\u001b[1;32m      5\u001b[0m \u001b[0;34m\u001b[0m\u001b[0m\n\u001b[1;32m      6\u001b[0m \u001b[0;31m# Import API key\u001b[0m\u001b[0;34m\u001b[0m\u001b[0;34m\u001b[0m\u001b[0;34m\u001b[0m\u001b[0m\n\u001b[0;32m----> 7\u001b[0;31m \u001b[0;32mfrom\u001b[0m \u001b[0mconfig\u001b[0m \u001b[0;32mimport\u001b[0m \u001b[0mg_key\u001b[0m\u001b[0;34m\u001b[0m\u001b[0;34m\u001b[0m\u001b[0m\n\u001b[0m\u001b[1;32m      8\u001b[0m \u001b[0;34m\u001b[0m\u001b[0m\n\u001b[1;32m      9\u001b[0m \u001b[0;31m# Configure gmaps API key\u001b[0m\u001b[0;34m\u001b[0m\u001b[0;34m\u001b[0m\u001b[0;34m\u001b[0m\u001b[0m\n",
      "\u001b[0;31mModuleNotFoundError\u001b[0m: No module named 'config'"
     ]
    }
   ],
   "source": [
    "# Dependencies and Setup\n",
    "import pandas as pd\n",
    "import gmaps\n",
    "import requests\n",
    "\n",
    "# Import API key\n",
    "from config import g_key\n",
    "\n",
    "# Configure gmaps API key\n",
    "gmaps.configure(api_key=g_key)"
   ]
  },
  {
   "cell_type": "code",
   "execution_count": 70,
   "metadata": {},
   "outputs": [
    {
     "output_type": "execute_result",
     "data": {
      "text/plain": [
       "   City_ID            City Country    Lat     Lng  Max Temp  Humidity  \\\n",
       "0        0  Port Elizabeth      ZA -33.92   25.57      62.6       100   \n",
       "1        1         Ushuaia      AR -54.80  -68.30      46.4        61   \n",
       "2        2      Georgetown      MY   5.41  100.34      84.2        83   \n",
       "3        3   Mar Del Plata      AR -38.00  -57.56      78.8        29   \n",
       "4        4   Clarence Town      AU -32.58  151.78      82.0        53   \n",
       "\n",
       "   Cloudiness  Wind Speed Current Description  \n",
       "0          75       12.75          light rain  \n",
       "1          20       28.86          few clouds  \n",
       "2          20        3.36          few clouds  \n",
       "3          75        9.17       broken clouds  \n",
       "4         100       10.29     overcast clouds  "
      ],
      "text/html": "<div>\n<style scoped>\n    .dataframe tbody tr th:only-of-type {\n        vertical-align: middle;\n    }\n\n    .dataframe tbody tr th {\n        vertical-align: top;\n    }\n\n    .dataframe thead th {\n        text-align: right;\n    }\n</style>\n<table border=\"1\" class=\"dataframe\">\n  <thead>\n    <tr style=\"text-align: right;\">\n      <th></th>\n      <th>City_ID</th>\n      <th>City</th>\n      <th>Country</th>\n      <th>Lat</th>\n      <th>Lng</th>\n      <th>Max Temp</th>\n      <th>Humidity</th>\n      <th>Cloudiness</th>\n      <th>Wind Speed</th>\n      <th>Current Description</th>\n    </tr>\n  </thead>\n  <tbody>\n    <tr>\n      <th>0</th>\n      <td>0</td>\n      <td>Port Elizabeth</td>\n      <td>ZA</td>\n      <td>-33.92</td>\n      <td>25.57</td>\n      <td>62.6</td>\n      <td>100</td>\n      <td>75</td>\n      <td>12.75</td>\n      <td>light rain</td>\n    </tr>\n    <tr>\n      <th>1</th>\n      <td>1</td>\n      <td>Ushuaia</td>\n      <td>AR</td>\n      <td>-54.80</td>\n      <td>-68.30</td>\n      <td>46.4</td>\n      <td>61</td>\n      <td>20</td>\n      <td>28.86</td>\n      <td>few clouds</td>\n    </tr>\n    <tr>\n      <th>2</th>\n      <td>2</td>\n      <td>Georgetown</td>\n      <td>MY</td>\n      <td>5.41</td>\n      <td>100.34</td>\n      <td>84.2</td>\n      <td>83</td>\n      <td>20</td>\n      <td>3.36</td>\n      <td>few clouds</td>\n    </tr>\n    <tr>\n      <th>3</th>\n      <td>3</td>\n      <td>Mar Del Plata</td>\n      <td>AR</td>\n      <td>-38.00</td>\n      <td>-57.56</td>\n      <td>78.8</td>\n      <td>29</td>\n      <td>75</td>\n      <td>9.17</td>\n      <td>broken clouds</td>\n    </tr>\n    <tr>\n      <th>4</th>\n      <td>4</td>\n      <td>Clarence Town</td>\n      <td>AU</td>\n      <td>-32.58</td>\n      <td>151.78</td>\n      <td>82.0</td>\n      <td>53</td>\n      <td>100</td>\n      <td>10.29</td>\n      <td>overcast clouds</td>\n    </tr>\n  </tbody>\n</table>\n</div>"
     },
     "metadata": {},
     "execution_count": 70
    }
   ],
   "source": [
    "# 1. Import the WeatherPy_database.csv file. \n",
    "city_data_df = pd.read_csv(\"weather_data/WeatherPy_Database.csv\")\n",
    "city_data_df.head()"
   ]
  },
  {
   "cell_type": "code",
   "execution_count": 71,
   "metadata": {},
   "outputs": [],
   "source": [
    "# 2. Prompt the user to enter minimum and maximum temperature criteria \n",
    "min_temp = float(input('What is the minimum temperature you would like for your trip?'))\n",
    "max_temp = float(input('What is the maximum temperature you would like for your trip?'))"
   ]
  },
  {
   "cell_type": "code",
   "execution_count": 72,
   "metadata": {},
   "outputs": [
    {
     "output_type": "stream",
     "name": "stdout",
     "text": [
      "60.0\n"
     ]
    }
   ],
   "source": [
    "print(min_temp)"
   ]
  },
  {
   "cell_type": "code",
   "execution_count": 73,
   "metadata": {},
   "outputs": [
    {
     "output_type": "stream",
     "name": "stdout",
     "text": [
      "95.0\n"
     ]
    }
   ],
   "source": [
    "print(max_temp)"
   ]
  },
  {
   "cell_type": "code",
   "execution_count": 74,
   "metadata": {},
   "outputs": [
    {
     "output_type": "execute_result",
     "data": {
      "text/plain": [
       "    City_ID            City Country    Lat     Lng  Max Temp  Humidity  \\\n",
       "0         0  Port Elizabeth      ZA -33.92   25.57     62.60       100   \n",
       "2         2      Georgetown      MY   5.41  100.34     84.20        83   \n",
       "3         3   Mar Del Plata      AR -38.00  -57.56     78.80        29   \n",
       "4         4   Clarence Town      AU -32.58  151.78     82.00        53   \n",
       "5         5     New Norfolk      AU -42.78  147.06     61.00        62   \n",
       "6         6   Alice Springs      AU -23.70  133.88     60.80       100   \n",
       "9         9    Port Lincoln      AU -34.73  135.87     63.39        68   \n",
       "10       10         Kavieng      PG  -2.57  150.80     84.85        68   \n",
       "13       13          Hirara      JP  24.80  125.28     75.20        94   \n",
       "14       14         Rikitea      PF -23.12 -134.97     78.73        64   \n",
       "\n",
       "    Cloudiness  Wind Speed          Current Description  \n",
       "0           75       12.75                   light rain  \n",
       "2           20        3.36                   few clouds  \n",
       "3           75        9.17                broken clouds  \n",
       "4          100       10.29              overcast clouds  \n",
       "5           94        3.00              overcast clouds  \n",
       "6           90       11.41  light intensity shower rain  \n",
       "9           95       12.08              overcast clouds  \n",
       "10          91        3.29                   light rain  \n",
       "13          75        4.70                broken clouds  \n",
       "14          38        7.00             scattered clouds  "
      ],
      "text/html": "<div>\n<style scoped>\n    .dataframe tbody tr th:only-of-type {\n        vertical-align: middle;\n    }\n\n    .dataframe tbody tr th {\n        vertical-align: top;\n    }\n\n    .dataframe thead th {\n        text-align: right;\n    }\n</style>\n<table border=\"1\" class=\"dataframe\">\n  <thead>\n    <tr style=\"text-align: right;\">\n      <th></th>\n      <th>City_ID</th>\n      <th>City</th>\n      <th>Country</th>\n      <th>Lat</th>\n      <th>Lng</th>\n      <th>Max Temp</th>\n      <th>Humidity</th>\n      <th>Cloudiness</th>\n      <th>Wind Speed</th>\n      <th>Current Description</th>\n    </tr>\n  </thead>\n  <tbody>\n    <tr>\n      <th>0</th>\n      <td>0</td>\n      <td>Port Elizabeth</td>\n      <td>ZA</td>\n      <td>-33.92</td>\n      <td>25.57</td>\n      <td>62.60</td>\n      <td>100</td>\n      <td>75</td>\n      <td>12.75</td>\n      <td>light rain</td>\n    </tr>\n    <tr>\n      <th>2</th>\n      <td>2</td>\n      <td>Georgetown</td>\n      <td>MY</td>\n      <td>5.41</td>\n      <td>100.34</td>\n      <td>84.20</td>\n      <td>83</td>\n      <td>20</td>\n      <td>3.36</td>\n      <td>few clouds</td>\n    </tr>\n    <tr>\n      <th>3</th>\n      <td>3</td>\n      <td>Mar Del Plata</td>\n      <td>AR</td>\n      <td>-38.00</td>\n      <td>-57.56</td>\n      <td>78.80</td>\n      <td>29</td>\n      <td>75</td>\n      <td>9.17</td>\n      <td>broken clouds</td>\n    </tr>\n    <tr>\n      <th>4</th>\n      <td>4</td>\n      <td>Clarence Town</td>\n      <td>AU</td>\n      <td>-32.58</td>\n      <td>151.78</td>\n      <td>82.00</td>\n      <td>53</td>\n      <td>100</td>\n      <td>10.29</td>\n      <td>overcast clouds</td>\n    </tr>\n    <tr>\n      <th>5</th>\n      <td>5</td>\n      <td>New Norfolk</td>\n      <td>AU</td>\n      <td>-42.78</td>\n      <td>147.06</td>\n      <td>61.00</td>\n      <td>62</td>\n      <td>94</td>\n      <td>3.00</td>\n      <td>overcast clouds</td>\n    </tr>\n    <tr>\n      <th>6</th>\n      <td>6</td>\n      <td>Alice Springs</td>\n      <td>AU</td>\n      <td>-23.70</td>\n      <td>133.88</td>\n      <td>60.80</td>\n      <td>100</td>\n      <td>90</td>\n      <td>11.41</td>\n      <td>light intensity shower rain</td>\n    </tr>\n    <tr>\n      <th>9</th>\n      <td>9</td>\n      <td>Port Lincoln</td>\n      <td>AU</td>\n      <td>-34.73</td>\n      <td>135.87</td>\n      <td>63.39</td>\n      <td>68</td>\n      <td>95</td>\n      <td>12.08</td>\n      <td>overcast clouds</td>\n    </tr>\n    <tr>\n      <th>10</th>\n      <td>10</td>\n      <td>Kavieng</td>\n      <td>PG</td>\n      <td>-2.57</td>\n      <td>150.80</td>\n      <td>84.85</td>\n      <td>68</td>\n      <td>91</td>\n      <td>3.29</td>\n      <td>light rain</td>\n    </tr>\n    <tr>\n      <th>13</th>\n      <td>13</td>\n      <td>Hirara</td>\n      <td>JP</td>\n      <td>24.80</td>\n      <td>125.28</td>\n      <td>75.20</td>\n      <td>94</td>\n      <td>75</td>\n      <td>4.70</td>\n      <td>broken clouds</td>\n    </tr>\n    <tr>\n      <th>14</th>\n      <td>14</td>\n      <td>Rikitea</td>\n      <td>PF</td>\n      <td>-23.12</td>\n      <td>-134.97</td>\n      <td>78.73</td>\n      <td>64</td>\n      <td>38</td>\n      <td>7.00</td>\n      <td>scattered clouds</td>\n    </tr>\n  </tbody>\n</table>\n</div>"
     },
     "metadata": {},
     "execution_count": 74
    }
   ],
   "source": [
    "# 3. Filter the city_data_df DataFrame using the input statements to create a new DataFrame using the loc method.\n",
    "preferred_cities_df = city_data_df.loc[(city_data_df[\"Max Temp\"] <= max_temp) & \\\n",
    "                                       (city_data_df[\"Max Temp\"] >= min_temp)]\n",
    "preferred_cities_df.head(10)"
   ]
  },
  {
   "cell_type": "code",
   "execution_count": 75,
   "metadata": {},
   "outputs": [
    {
     "output_type": "execute_result",
     "data": {
      "text/plain": [
       "City_ID                339\n",
       "City                   339\n",
       "Country                334\n",
       "Lat                    339\n",
       "Lng                    339\n",
       "Max Temp               339\n",
       "Humidity               339\n",
       "Cloudiness             339\n",
       "Wind Speed             339\n",
       "Current Description    339\n",
       "dtype: int64"
      ]
     },
     "metadata": {},
     "execution_count": 75
    }
   ],
   "source": [
    "# 4a. Determine if there are any empty rows.\n",
    "preferred_cities_df.count()"
   ]
  },
  {
   "cell_type": "code",
   "execution_count": 76,
   "metadata": {},
   "outputs": [
    {
     "output_type": "execute_result",
     "data": {
      "text/plain": [
       "     City_ID            City Country    Lat     Lng  Max Temp  Humidity  \\\n",
       "0          0  Port Elizabeth      ZA -33.92   25.57     62.60       100   \n",
       "2          2      Georgetown      MY   5.41  100.34     84.20        83   \n",
       "3          3   Mar Del Plata      AR -38.00  -57.56     78.80        29   \n",
       "4          4   Clarence Town      AU -32.58  151.78     82.00        53   \n",
       "5          5     New Norfolk      AU -42.78  147.06     61.00        62   \n",
       "..       ...             ...     ...    ...     ...       ...       ...   \n",
       "697      697          Neiafu      TO -18.65 -173.98     84.20        74   \n",
       "698      698         Mongomo      GQ   1.63   11.31     67.37        98   \n",
       "703      703            Nago      JP  26.59  127.98     71.60        88   \n",
       "705      705          Baraya      CO   3.15  -75.05     72.19        76   \n",
       "708      708     Porto Santo      PT  33.07  -16.34     64.40        88   \n",
       "\n",
       "     Cloudiness  Wind Speed Current Description  \n",
       "0            75       12.75          light rain  \n",
       "2            20        3.36          few clouds  \n",
       "3            75        9.17       broken clouds  \n",
       "4           100       10.29     overcast clouds  \n",
       "5            94        3.00     overcast clouds  \n",
       "..          ...         ...                 ...  \n",
       "697          40        5.82          light rain  \n",
       "698          95        1.90     overcast clouds  \n",
       "703          75        9.17       broken clouds  \n",
       "705          27        4.68    scattered clouds  \n",
       "708          20       11.41          few clouds  \n",
       "\n",
       "[334 rows x 10 columns]"
      ],
      "text/html": "<div>\n<style scoped>\n    .dataframe tbody tr th:only-of-type {\n        vertical-align: middle;\n    }\n\n    .dataframe tbody tr th {\n        vertical-align: top;\n    }\n\n    .dataframe thead th {\n        text-align: right;\n    }\n</style>\n<table border=\"1\" class=\"dataframe\">\n  <thead>\n    <tr style=\"text-align: right;\">\n      <th></th>\n      <th>City_ID</th>\n      <th>City</th>\n      <th>Country</th>\n      <th>Lat</th>\n      <th>Lng</th>\n      <th>Max Temp</th>\n      <th>Humidity</th>\n      <th>Cloudiness</th>\n      <th>Wind Speed</th>\n      <th>Current Description</th>\n    </tr>\n  </thead>\n  <tbody>\n    <tr>\n      <th>0</th>\n      <td>0</td>\n      <td>Port Elizabeth</td>\n      <td>ZA</td>\n      <td>-33.92</td>\n      <td>25.57</td>\n      <td>62.60</td>\n      <td>100</td>\n      <td>75</td>\n      <td>12.75</td>\n      <td>light rain</td>\n    </tr>\n    <tr>\n      <th>2</th>\n      <td>2</td>\n      <td>Georgetown</td>\n      <td>MY</td>\n      <td>5.41</td>\n      <td>100.34</td>\n      <td>84.20</td>\n      <td>83</td>\n      <td>20</td>\n      <td>3.36</td>\n      <td>few clouds</td>\n    </tr>\n    <tr>\n      <th>3</th>\n      <td>3</td>\n      <td>Mar Del Plata</td>\n      <td>AR</td>\n      <td>-38.00</td>\n      <td>-57.56</td>\n      <td>78.80</td>\n      <td>29</td>\n      <td>75</td>\n      <td>9.17</td>\n      <td>broken clouds</td>\n    </tr>\n    <tr>\n      <th>4</th>\n      <td>4</td>\n      <td>Clarence Town</td>\n      <td>AU</td>\n      <td>-32.58</td>\n      <td>151.78</td>\n      <td>82.00</td>\n      <td>53</td>\n      <td>100</td>\n      <td>10.29</td>\n      <td>overcast clouds</td>\n    </tr>\n    <tr>\n      <th>5</th>\n      <td>5</td>\n      <td>New Norfolk</td>\n      <td>AU</td>\n      <td>-42.78</td>\n      <td>147.06</td>\n      <td>61.00</td>\n      <td>62</td>\n      <td>94</td>\n      <td>3.00</td>\n      <td>overcast clouds</td>\n    </tr>\n    <tr>\n      <th>...</th>\n      <td>...</td>\n      <td>...</td>\n      <td>...</td>\n      <td>...</td>\n      <td>...</td>\n      <td>...</td>\n      <td>...</td>\n      <td>...</td>\n      <td>...</td>\n      <td>...</td>\n    </tr>\n    <tr>\n      <th>697</th>\n      <td>697</td>\n      <td>Neiafu</td>\n      <td>TO</td>\n      <td>-18.65</td>\n      <td>-173.98</td>\n      <td>84.20</td>\n      <td>74</td>\n      <td>40</td>\n      <td>5.82</td>\n      <td>light rain</td>\n    </tr>\n    <tr>\n      <th>698</th>\n      <td>698</td>\n      <td>Mongomo</td>\n      <td>GQ</td>\n      <td>1.63</td>\n      <td>11.31</td>\n      <td>67.37</td>\n      <td>98</td>\n      <td>95</td>\n      <td>1.90</td>\n      <td>overcast clouds</td>\n    </tr>\n    <tr>\n      <th>703</th>\n      <td>703</td>\n      <td>Nago</td>\n      <td>JP</td>\n      <td>26.59</td>\n      <td>127.98</td>\n      <td>71.60</td>\n      <td>88</td>\n      <td>75</td>\n      <td>9.17</td>\n      <td>broken clouds</td>\n    </tr>\n    <tr>\n      <th>705</th>\n      <td>705</td>\n      <td>Baraya</td>\n      <td>CO</td>\n      <td>3.15</td>\n      <td>-75.05</td>\n      <td>72.19</td>\n      <td>76</td>\n      <td>27</td>\n      <td>4.68</td>\n      <td>scattered clouds</td>\n    </tr>\n    <tr>\n      <th>708</th>\n      <td>708</td>\n      <td>Porto Santo</td>\n      <td>PT</td>\n      <td>33.07</td>\n      <td>-16.34</td>\n      <td>64.40</td>\n      <td>88</td>\n      <td>20</td>\n      <td>11.41</td>\n      <td>few clouds</td>\n    </tr>\n  </tbody>\n</table>\n<p>334 rows × 10 columns</p>\n</div>"
     },
     "metadata": {},
     "execution_count": 76
    }
   ],
   "source": [
    "# 4b. Drop any empty rows and create a new DataFrame that doesn’t have empty rows.\n",
    "preferred_cities_df = preferred_cities_df.dropna()\n",
    "preferred_cities_df"
   ]
  },
  {
   "cell_type": "code",
   "execution_count": 77,
   "metadata": {},
   "outputs": [
    {
     "output_type": "execute_result",
     "data": {
      "text/plain": [
       "City_ID                334\n",
       "City                   334\n",
       "Country                334\n",
       "Lat                    334\n",
       "Lng                    334\n",
       "Max Temp               334\n",
       "Humidity               334\n",
       "Cloudiness             334\n",
       "Wind Speed             334\n",
       "Current Description    334\n",
       "dtype: int64"
      ]
     },
     "metadata": {},
     "execution_count": 77
    }
   ],
   "source": [
    "preferred_cities_df.count()"
   ]
  },
  {
   "cell_type": "code",
   "execution_count": 78,
   "metadata": {},
   "outputs": [
    {
     "output_type": "execute_result",
     "data": {
      "text/plain": [
       "             City Country  Max Temp Current Description    Lat     Lng  \\\n",
       "0  Port Elizabeth      ZA      62.6          light rain -33.92   25.57   \n",
       "2      Georgetown      MY      84.2          few clouds   5.41  100.34   \n",
       "3   Mar Del Plata      AR      78.8       broken clouds -38.00  -57.56   \n",
       "4   Clarence Town      AU      82.0     overcast clouds -32.58  151.78   \n",
       "5     New Norfolk      AU      61.0     overcast clouds -42.78  147.06   \n",
       "\n",
       "  Hotel Name  \n",
       "0             \n",
       "2             \n",
       "3             \n",
       "4             \n",
       "5             "
      ],
      "text/html": "<div>\n<style scoped>\n    .dataframe tbody tr th:only-of-type {\n        vertical-align: middle;\n    }\n\n    .dataframe tbody tr th {\n        vertical-align: top;\n    }\n\n    .dataframe thead th {\n        text-align: right;\n    }\n</style>\n<table border=\"1\" class=\"dataframe\">\n  <thead>\n    <tr style=\"text-align: right;\">\n      <th></th>\n      <th>City</th>\n      <th>Country</th>\n      <th>Max Temp</th>\n      <th>Current Description</th>\n      <th>Lat</th>\n      <th>Lng</th>\n      <th>Hotel Name</th>\n    </tr>\n  </thead>\n  <tbody>\n    <tr>\n      <th>0</th>\n      <td>Port Elizabeth</td>\n      <td>ZA</td>\n      <td>62.6</td>\n      <td>light rain</td>\n      <td>-33.92</td>\n      <td>25.57</td>\n      <td></td>\n    </tr>\n    <tr>\n      <th>2</th>\n      <td>Georgetown</td>\n      <td>MY</td>\n      <td>84.2</td>\n      <td>few clouds</td>\n      <td>5.41</td>\n      <td>100.34</td>\n      <td></td>\n    </tr>\n    <tr>\n      <th>3</th>\n      <td>Mar Del Plata</td>\n      <td>AR</td>\n      <td>78.8</td>\n      <td>broken clouds</td>\n      <td>-38.00</td>\n      <td>-57.56</td>\n      <td></td>\n    </tr>\n    <tr>\n      <th>4</th>\n      <td>Clarence Town</td>\n      <td>AU</td>\n      <td>82.0</td>\n      <td>overcast clouds</td>\n      <td>-32.58</td>\n      <td>151.78</td>\n      <td></td>\n    </tr>\n    <tr>\n      <th>5</th>\n      <td>New Norfolk</td>\n      <td>AU</td>\n      <td>61.0</td>\n      <td>overcast clouds</td>\n      <td>-42.78</td>\n      <td>147.06</td>\n      <td></td>\n    </tr>\n  </tbody>\n</table>\n</div>"
     },
     "metadata": {},
     "execution_count": 78
    }
   ],
   "source": [
    "# 5a. Create DataFrame called hotel_df to store hotel names along with city, country, max temp, and coordinates.\n",
    "hotel_df = preferred_cities_df[[\"City\", \"Country\", \"Max Temp\", \"Current Description\", \"Lat\", \"Lng\"]].copy()\n",
    "\n",
    "# 5b. Create a new column \"Hotel Name\"\n",
    "hotel_df[\"Hotel Name\"] = \"\"\n",
    "hotel_df.head()"
   ]
  },
  {
   "cell_type": "code",
   "execution_count": 79,
   "metadata": {},
   "outputs": [
    {
     "output_type": "execute_result",
     "data": {
      "text/plain": [
       "               City Country  Max Temp Current Description    Lat     Lng  \\\n",
       "0    Port Elizabeth      ZA     62.60          light rain -33.92   25.57   \n",
       "2        Georgetown      MY     84.20          few clouds   5.41  100.34   \n",
       "3     Mar Del Plata      AR     78.80       broken clouds -38.00  -57.56   \n",
       "4     Clarence Town      AU     82.00     overcast clouds -32.58  151.78   \n",
       "5       New Norfolk      AU     61.00     overcast clouds -42.78  147.06   \n",
       "..              ...     ...       ...                 ...    ...     ...   \n",
       "697          Neiafu      TO     84.20          light rain -18.65 -173.98   \n",
       "698         Mongomo      GQ     67.37     overcast clouds   1.63   11.31   \n",
       "703            Nago      JP     71.60       broken clouds  26.59  127.98   \n",
       "705          Baraya      CO     72.19    scattered clouds   3.15  -75.05   \n",
       "708     Porto Santo      PT     64.40          few clouds  33.07  -16.34   \n",
       "\n",
       "                          Hotel Name  \n",
       "0             39 On Nile Guest House  \n",
       "2                     Cititel Penang  \n",
       "3           Gran Hotel Mar del Plata  \n",
       "4                River Downs Cottage  \n",
       "5    The Shingles Riverside Cottages  \n",
       "..                               ...  \n",
       "697                     Mystic Sands  \n",
       "698                        Mbon Ekua  \n",
       "703          Hotel Yugaf Inn Okinawa  \n",
       "705              HOTEL LOS ALMENDROS  \n",
       "708          Hotel Porto Santo & Spa  \n",
       "\n",
       "[334 rows x 7 columns]"
      ],
      "text/html": "<div>\n<style scoped>\n    .dataframe tbody tr th:only-of-type {\n        vertical-align: middle;\n    }\n\n    .dataframe tbody tr th {\n        vertical-align: top;\n    }\n\n    .dataframe thead th {\n        text-align: right;\n    }\n</style>\n<table border=\"1\" class=\"dataframe\">\n  <thead>\n    <tr style=\"text-align: right;\">\n      <th></th>\n      <th>City</th>\n      <th>Country</th>\n      <th>Max Temp</th>\n      <th>Current Description</th>\n      <th>Lat</th>\n      <th>Lng</th>\n      <th>Hotel Name</th>\n    </tr>\n  </thead>\n  <tbody>\n    <tr>\n      <th>0</th>\n      <td>Port Elizabeth</td>\n      <td>ZA</td>\n      <td>62.60</td>\n      <td>light rain</td>\n      <td>-33.92</td>\n      <td>25.57</td>\n      <td>39 On Nile Guest House</td>\n    </tr>\n    <tr>\n      <th>2</th>\n      <td>Georgetown</td>\n      <td>MY</td>\n      <td>84.20</td>\n      <td>few clouds</td>\n      <td>5.41</td>\n      <td>100.34</td>\n      <td>Cititel Penang</td>\n    </tr>\n    <tr>\n      <th>3</th>\n      <td>Mar Del Plata</td>\n      <td>AR</td>\n      <td>78.80</td>\n      <td>broken clouds</td>\n      <td>-38.00</td>\n      <td>-57.56</td>\n      <td>Gran Hotel Mar del Plata</td>\n    </tr>\n    <tr>\n      <th>4</th>\n      <td>Clarence Town</td>\n      <td>AU</td>\n      <td>82.00</td>\n      <td>overcast clouds</td>\n      <td>-32.58</td>\n      <td>151.78</td>\n      <td>River Downs Cottage</td>\n    </tr>\n    <tr>\n      <th>5</th>\n      <td>New Norfolk</td>\n      <td>AU</td>\n      <td>61.00</td>\n      <td>overcast clouds</td>\n      <td>-42.78</td>\n      <td>147.06</td>\n      <td>The Shingles Riverside Cottages</td>\n    </tr>\n    <tr>\n      <th>...</th>\n      <td>...</td>\n      <td>...</td>\n      <td>...</td>\n      <td>...</td>\n      <td>...</td>\n      <td>...</td>\n      <td>...</td>\n    </tr>\n    <tr>\n      <th>697</th>\n      <td>Neiafu</td>\n      <td>TO</td>\n      <td>84.20</td>\n      <td>light rain</td>\n      <td>-18.65</td>\n      <td>-173.98</td>\n      <td>Mystic Sands</td>\n    </tr>\n    <tr>\n      <th>698</th>\n      <td>Mongomo</td>\n      <td>GQ</td>\n      <td>67.37</td>\n      <td>overcast clouds</td>\n      <td>1.63</td>\n      <td>11.31</td>\n      <td>Mbon Ekua</td>\n    </tr>\n    <tr>\n      <th>703</th>\n      <td>Nago</td>\n      <td>JP</td>\n      <td>71.60</td>\n      <td>broken clouds</td>\n      <td>26.59</td>\n      <td>127.98</td>\n      <td>Hotel Yugaf Inn Okinawa</td>\n    </tr>\n    <tr>\n      <th>705</th>\n      <td>Baraya</td>\n      <td>CO</td>\n      <td>72.19</td>\n      <td>scattered clouds</td>\n      <td>3.15</td>\n      <td>-75.05</td>\n      <td>HOTEL LOS ALMENDROS</td>\n    </tr>\n    <tr>\n      <th>708</th>\n      <td>Porto Santo</td>\n      <td>PT</td>\n      <td>64.40</td>\n      <td>few clouds</td>\n      <td>33.07</td>\n      <td>-16.34</td>\n      <td>Hotel Porto Santo &amp; Spa</td>\n    </tr>\n  </tbody>\n</table>\n<p>334 rows × 7 columns</p>\n</div>"
     },
     "metadata": {},
     "execution_count": 79
    }
   ],
   "source": [
    "# 6a. Set parameters to search for hotels with 5000 meters.\n",
    "params = {\n",
    "    \"radius\": 5000,\n",
    "    \"type\": \"lodging\",\n",
    "    \"key\": g_key\n",
    "}\n",
    "\n",
    "# 6b. Iterate through the hotel DataFrame.\n",
    "for index, row in hotel_df.iterrows():\n",
    "    # Get the latitude and longitude.\n",
    "    lat = row[\"Lat\"]\n",
    "    lng = row[\"Lng\"]\n",
    "    # 6c. Get latitude and longitude from DataFrame\n",
    "    params[\"location\"] = f\"{lat},{lng}\"\n",
    "    \n",
    "    # 6d. Set up the base URL for the Google Directions API to get JSON data.\n",
    "    base_url = \"https://maps.googleapis.com/maps/api/place/nearbysearch/json\"\n",
    "\n",
    "    # 6e. Make request and retrieve the JSON data from the search. \n",
    "    hotels = requests.get(base_url, params=params).json()\n",
    "    \n",
    "    # 6f. Get the first hotel from the results and store the name, if a hotel isn't found skip the city.\n",
    "    \n",
    "    if len(hotels[\"results\"]) > 0: \n",
    "        hotel_df.loc[index, \"Hotel Name\"] = hotels[\"results\"][0][\"name\"]\n",
    "        \n",
    "hotel_df        "
   ]
  },
  {
   "cell_type": "code",
   "execution_count": 80,
   "metadata": {},
   "outputs": [
    {
     "output_type": "execute_result",
     "data": {
      "text/plain": [
       "City                    object\n",
       "Country                 object\n",
       "Max Temp               float64\n",
       "Current Description     object\n",
       "Lat                    float64\n",
       "Lng                    float64\n",
       "Hotel Name              object\n",
       "dtype: object"
      ]
     },
     "metadata": {},
     "execution_count": 80
    }
   ],
   "source": [
    "hotel_df.dtypes"
   ]
  },
  {
   "cell_type": "code",
   "execution_count": 81,
   "metadata": {},
   "outputs": [
    {
     "output_type": "execute_result",
     "data": {
      "text/plain": [
       "             City Country  Max Temp Current Description    Lat     Lng  \\\n",
       "0  Port Elizabeth      ZA      62.6          light rain -33.92   25.57   \n",
       "2      Georgetown      MY      84.2          few clouds   5.41  100.34   \n",
       "3   Mar Del Plata      AR      78.8       broken clouds -38.00  -57.56   \n",
       "4   Clarence Town      AU      82.0     overcast clouds -32.58  151.78   \n",
       "5     New Norfolk      AU      61.0     overcast clouds -42.78  147.06   \n",
       "\n",
       "                        Hotel Name  \n",
       "0           39 On Nile Guest House  \n",
       "2                   Cititel Penang  \n",
       "3         Gran Hotel Mar del Plata  \n",
       "4              River Downs Cottage  \n",
       "5  The Shingles Riverside Cottages  "
      ],
      "text/html": "<div>\n<style scoped>\n    .dataframe tbody tr th:only-of-type {\n        vertical-align: middle;\n    }\n\n    .dataframe tbody tr th {\n        vertical-align: top;\n    }\n\n    .dataframe thead th {\n        text-align: right;\n    }\n</style>\n<table border=\"1\" class=\"dataframe\">\n  <thead>\n    <tr style=\"text-align: right;\">\n      <th></th>\n      <th>City</th>\n      <th>Country</th>\n      <th>Max Temp</th>\n      <th>Current Description</th>\n      <th>Lat</th>\n      <th>Lng</th>\n      <th>Hotel Name</th>\n    </tr>\n  </thead>\n  <tbody>\n    <tr>\n      <th>0</th>\n      <td>Port Elizabeth</td>\n      <td>ZA</td>\n      <td>62.6</td>\n      <td>light rain</td>\n      <td>-33.92</td>\n      <td>25.57</td>\n      <td>39 On Nile Guest House</td>\n    </tr>\n    <tr>\n      <th>2</th>\n      <td>Georgetown</td>\n      <td>MY</td>\n      <td>84.2</td>\n      <td>few clouds</td>\n      <td>5.41</td>\n      <td>100.34</td>\n      <td>Cititel Penang</td>\n    </tr>\n    <tr>\n      <th>3</th>\n      <td>Mar Del Plata</td>\n      <td>AR</td>\n      <td>78.8</td>\n      <td>broken clouds</td>\n      <td>-38.00</td>\n      <td>-57.56</td>\n      <td>Gran Hotel Mar del Plata</td>\n    </tr>\n    <tr>\n      <th>4</th>\n      <td>Clarence Town</td>\n      <td>AU</td>\n      <td>82.0</td>\n      <td>overcast clouds</td>\n      <td>-32.58</td>\n      <td>151.78</td>\n      <td>River Downs Cottage</td>\n    </tr>\n    <tr>\n      <th>5</th>\n      <td>New Norfolk</td>\n      <td>AU</td>\n      <td>61.0</td>\n      <td>overcast clouds</td>\n      <td>-42.78</td>\n      <td>147.06</td>\n      <td>The Shingles Riverside Cottages</td>\n    </tr>\n  </tbody>\n</table>\n</div>"
     },
     "metadata": {},
     "execution_count": 81
    }
   ],
   "source": [
    "# 7. Drop the rows where there is no Hotel Name.\n",
    "hotel_df = hotel_df[hotel_df[\"Hotel Name\"]!= \"\"]\n",
    "hotel_df.head()"
   ]
  },
  {
   "cell_type": "code",
   "execution_count": 82,
   "metadata": {},
   "outputs": [
    {
     "output_type": "execute_result",
     "data": {
      "text/plain": [
       "City                   317\n",
       "Country                317\n",
       "Max Temp               317\n",
       "Current Description    317\n",
       "Lat                    317\n",
       "Lng                    317\n",
       "Hotel Name             317\n",
       "dtype: int64"
      ]
     },
     "metadata": {},
     "execution_count": 82
    }
   ],
   "source": [
    "hotel_df.count()"
   ]
  },
  {
   "cell_type": "code",
   "execution_count": 83,
   "metadata": {},
   "outputs": [],
   "source": [
    "# 8a. Create the output File (CSV)\n",
    "output_data_file = \"Vacation_Search/WeatherPy_vacation_df.csv\"\n",
    "# 8b. Export the City_Data into a csv\n",
    "hotel_df.to_csv(output_data_file, index_label=\"City_ID\")"
   ]
  },
  {
   "cell_type": "code",
   "execution_count": 84,
   "metadata": {},
   "outputs": [
    {
     "output_type": "execute_result",
     "data": {
      "text/plain": [
       "             City Country  Max Temp Current Description    Lat     Lng  \\\n",
       "0  Port Elizabeth      ZA      62.6          light rain -33.92   25.57   \n",
       "2      Georgetown      MY      84.2          few clouds   5.41  100.34   \n",
       "3   Mar Del Plata      AR      78.8       broken clouds -38.00  -57.56   \n",
       "4   Clarence Town      AU      82.0     overcast clouds -32.58  151.78   \n",
       "5     New Norfolk      AU      61.0     overcast clouds -42.78  147.06   \n",
       "\n",
       "                        Hotel Name  \n",
       "0           39 On Nile Guest House  \n",
       "2                   Cititel Penang  \n",
       "3         Gran Hotel Mar del Plata  \n",
       "4              River Downs Cottage  \n",
       "5  The Shingles Riverside Cottages  "
      ],
      "text/html": "<div>\n<style scoped>\n    .dataframe tbody tr th:only-of-type {\n        vertical-align: middle;\n    }\n\n    .dataframe tbody tr th {\n        vertical-align: top;\n    }\n\n    .dataframe thead th {\n        text-align: right;\n    }\n</style>\n<table border=\"1\" class=\"dataframe\">\n  <thead>\n    <tr style=\"text-align: right;\">\n      <th></th>\n      <th>City</th>\n      <th>Country</th>\n      <th>Max Temp</th>\n      <th>Current Description</th>\n      <th>Lat</th>\n      <th>Lng</th>\n      <th>Hotel Name</th>\n    </tr>\n  </thead>\n  <tbody>\n    <tr>\n      <th>0</th>\n      <td>Port Elizabeth</td>\n      <td>ZA</td>\n      <td>62.6</td>\n      <td>light rain</td>\n      <td>-33.92</td>\n      <td>25.57</td>\n      <td>39 On Nile Guest House</td>\n    </tr>\n    <tr>\n      <th>2</th>\n      <td>Georgetown</td>\n      <td>MY</td>\n      <td>84.2</td>\n      <td>few clouds</td>\n      <td>5.41</td>\n      <td>100.34</td>\n      <td>Cititel Penang</td>\n    </tr>\n    <tr>\n      <th>3</th>\n      <td>Mar Del Plata</td>\n      <td>AR</td>\n      <td>78.8</td>\n      <td>broken clouds</td>\n      <td>-38.00</td>\n      <td>-57.56</td>\n      <td>Gran Hotel Mar del Plata</td>\n    </tr>\n    <tr>\n      <th>4</th>\n      <td>Clarence Town</td>\n      <td>AU</td>\n      <td>82.0</td>\n      <td>overcast clouds</td>\n      <td>-32.58</td>\n      <td>151.78</td>\n      <td>River Downs Cottage</td>\n    </tr>\n    <tr>\n      <th>5</th>\n      <td>New Norfolk</td>\n      <td>AU</td>\n      <td>61.0</td>\n      <td>overcast clouds</td>\n      <td>-42.78</td>\n      <td>147.06</td>\n      <td>The Shingles Riverside Cottages</td>\n    </tr>\n  </tbody>\n</table>\n</div>"
     },
     "metadata": {},
     "execution_count": 84
    }
   ],
   "source": [
    "vacation_df =pd.read_csv(\"Vacation_Search/WeatherPy_vacation_df.csv\")\n",
    "vacation_df.head()"
   ]
  },
  {
   "cell_type": "code",
   "execution_count": 85,
   "metadata": {},
   "outputs": [],
   "source": [
    "# 9. Using the template add city name, the country code, the weather description and maximum temperature for the city.\n",
    "info_box_template = \"\"\"\n",
    "<dl>\n",
    "<dt>Hotel Name</dt><dd>{Hotel Name}</dd>\n",
    "<dt>City</dt><dd>{City}</dd>\n",
    "<dt>Country</dt><dd>{Country}</dd>\n",
    "<dt>Current Description</dt><dd>{Current Description} at {Max Temp}</dd>\n",
    "\"\"\"\n",
    "\n",
    "# 10a. Get the data from each row and add it to the formatting template and store the data in a list.\n",
    "hotel_info = [info_box_template.format(**row) for index, row in vacation_df.iterrows()]\n",
    "\n",
    "# 10b. Get the latitude and longitude from each row and store in a new DataFrame.\n",
    "locations = vacation_df[[\"Lat\", \"Lng\"]]"
   ]
  },
  {
   "cell_type": "code",
   "execution_count": 86,
   "metadata": {},
   "outputs": [
    {
     "output_type": "display_data",
     "data": {
      "text/plain": "Figure(layout=FigureLayout(height='420px'))",
      "application/vnd.jupyter.widget-view+json": {
       "version_major": 2,
       "version_minor": 0,
       "model_id": "004e24b083fd44b8bd37dcfeb7c5342d"
      }
     },
     "metadata": {}
    }
   ],
   "source": [
    "# 11a. Add a marker layer for each city to the map. \n",
    "marker_layer = gmaps.marker_layer(locations, info_box_content=hotel_info)\n",
    "fig = gmaps.figure()\n",
    "fig.add_layer(marker_layer)\n",
    "# 11b. Display the figure\n",
    "fig"
   ]
  },
  {
   "cell_type": "code",
   "execution_count": null,
   "metadata": {},
   "outputs": [],
   "source": []
  },
  {
   "cell_type": "code",
   "execution_count": null,
   "metadata": {},
   "outputs": [],
   "source": []
  }
 ],
 "metadata": {
  "kernelspec": {
   "name": "python3",
   "display_name": "Python 3.7.9 64-bit ('PythonData': conda)",
   "metadata": {
    "interpreter": {
     "hash": "73d2295efbc80b53a5f005ce14be1848a43fef00bf96c9fd3ef648403ae9609d"
    }
   }
  },
  "language_info": {
   "codemirror_mode": {
    "name": "ipython",
    "version": 3
   },
   "file_extension": ".py",
   "mimetype": "text/x-python",
   "name": "python",
   "nbconvert_exporter": "python",
   "pygments_lexer": "ipython3",
   "version": "3.7.9-final"
  },
  "latex_envs": {
   "LaTeX_envs_menu_present": true,
   "autoclose": false,
   "autocomplete": true,
   "bibliofile": "biblio.bib",
   "cite_by": "apalike",
   "current_citInitial": 1,
   "eqLabelWithNumbers": true,
   "eqNumInitial": 1,
   "hotkeys": {
    "equation": "Ctrl-E",
    "itemize": "Ctrl-I"
   },
   "labels_anchors": false,
   "latex_user_defs": false,
   "report_style_numbering": false,
   "user_envs_cfg": false
  }
 },
 "nbformat": 4,
 "nbformat_minor": 2
}